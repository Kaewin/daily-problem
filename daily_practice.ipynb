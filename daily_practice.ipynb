{
 "cells": [
  {
   "cell_type": "markdown",
   "metadata": {},
   "source": [
    "# Practice"
   ]
  },
  {
   "cell_type": "markdown",
   "metadata": {},
   "source": [
    "## 1. Two Sum\n",
    "\n",
    "Given an array of integers nums and an integer target, return indices of the two numbers such that they add up to target.\n",
    "\n",
    "You may assume that each input would have exactly one solution, and you may not use the same element twice.\n",
    "\n",
    "You can return the answer in any order.\n",
    "\n",
    "Example 1:\n",
    "``````\n",
    "Input: nums = [2,7,11,15], target = 9\n",
    "Output: [0,1]\n",
    "Explanation: Because nums[0] + nums[1] == 9, we return [0, 1].\n",
    "``````\n",
    "Example 2:\n",
    "``````\n",
    "Input: nums = [3,2,4], target = 6\n",
    "Output: [1,2]\n",
    "``````\n",
    "Example 3:\n",
    "``````\n",
    "Input: nums = [3,3], target = 6\n",
    "Output: [0,1]\n",
    "``````\n",
    " \n",
    "\n",
    "Constraints:\n",
    "\n",
    "* 2 <= nums.length <= 104\n",
    "* -109 <= nums[i] <= 109\n",
    "* -109 <= target <= 109\n",
    "* Only one valid answer exists.\n",
    "\n",
    " \n",
    "Follow-up: Can you come up with an algorithm that is less than O(n2) time complexity?"
   ]
  },
  {
   "cell_type": "code",
   "execution_count": 8,
   "metadata": {},
   "outputs": [],
   "source": [
    "class Solution:\n",
    "\n",
    "\n"
   ]
  },
  {
   "cell_type": "code",
   "execution_count": 9,
   "metadata": {},
   "outputs": [
    {
     "name": "stdout",
     "output_type": "stream",
     "text": [
      "Correct\n"
     ]
    }
   ],
   "source": [
    "# Test Cases:\n",
    "\n",
    "# Test Case 1\n",
    "test_1 = Solution()\n",
    "\n",
    "nums = [2,7,11,15]\n",
    "target = 9\n",
    "\n",
    "answer = test_1.twoSum(nums, target)\n",
    "\n",
    "expected = [0, 1]\n",
    "\n",
    "if answer == expected:\n",
    "    print(\"Correct\")\n",
    "if answer != expected:\n",
    "    print(\"Wrong\")"
   ]
  },
  {
   "cell_type": "code",
   "execution_count": 10,
   "metadata": {},
   "outputs": [
    {
     "name": "stdout",
     "output_type": "stream",
     "text": [
      "Correct\n"
     ]
    }
   ],
   "source": [
    "# Test Case 2\n",
    "test_2 = Solution()\n",
    "\n",
    "nums = [3,2,4]\n",
    "target = 6\n",
    "\n",
    "answer = test_1.twoSum(nums, target)\n",
    "\n",
    "expected = [1, 2]\n",
    "\n",
    "if answer == expected:\n",
    "    print(\"Correct\")\n",
    "if answer != expected:\n",
    "    print(\"Wrong\")"
   ]
  },
  {
   "cell_type": "code",
   "execution_count": 11,
   "metadata": {},
   "outputs": [
    {
     "name": "stdout",
     "output_type": "stream",
     "text": [
      "Correct\n"
     ]
    }
   ],
   "source": [
    "# Test Case 3\n",
    "test_3 = Solution()\n",
    "\n",
    "nums = [3,3]\n",
    "target = 6\n",
    "\n",
    "answer = test_1.twoSum(nums, target)\n",
    "\n",
    "expected = [0, 1]\n",
    "\n",
    "if answer == expected:\n",
    "    print(\"Correct\")\n",
    "if answer != expected:\n",
    "    print(\"Wrong\")"
   ]
  },
  {
   "cell_type": "markdown",
   "metadata": {},
   "source": [
    "### Solution:"
   ]
  },
  {
   "cell_type": "code",
   "execution_count": 66,
   "metadata": {},
   "outputs": [
    {
     "ename": "NameError",
     "evalue": "name 'List' is not defined",
     "output_type": "error",
     "traceback": [
      "\u001b[1;31m---------------------------------------------------------------------------\u001b[0m",
      "\u001b[1;31mNameError\u001b[0m                                 Traceback (most recent call last)",
      "Cell \u001b[1;32mIn[66], line 2\u001b[0m\n\u001b[0;32m      1\u001b[0m \u001b[39m# 1. Two Sum\u001b[39;00m\n\u001b[1;32m----> 2\u001b[0m \u001b[39mclass\u001b[39;00m \u001b[39mSolution\u001b[39;00m:\n\u001b[0;32m      3\u001b[0m     \u001b[39mdef\u001b[39;00m \u001b[39mtwoSum\u001b[39m(\u001b[39mself\u001b[39m, nums: List[\u001b[39mint\u001b[39m], target: \u001b[39mint\u001b[39m) \u001b[39m-\u001b[39m\u001b[39m>\u001b[39m List[\u001b[39mint\u001b[39m]:\n\u001b[0;32m      4\u001b[0m         \u001b[39m# create a dictionary to store the index and value of the list\u001b[39;00m\n\u001b[0;32m      5\u001b[0m         dictionary \u001b[39m=\u001b[39m {}\n",
      "Cell \u001b[1;32mIn[66], line 3\u001b[0m, in \u001b[0;36mSolution\u001b[1;34m()\u001b[0m\n\u001b[0;32m      2\u001b[0m \u001b[39mclass\u001b[39;00m \u001b[39mSolution\u001b[39;00m:\n\u001b[1;32m----> 3\u001b[0m     \u001b[39mdef\u001b[39;00m \u001b[39mtwoSum\u001b[39m(\u001b[39mself\u001b[39m, nums: List[\u001b[39mint\u001b[39m], target: \u001b[39mint\u001b[39m) \u001b[39m-\u001b[39m\u001b[39m>\u001b[39m List[\u001b[39mint\u001b[39m]:\n\u001b[0;32m      4\u001b[0m         \u001b[39m# create a dictionary to store the index and value of the list\u001b[39;00m\n\u001b[0;32m      5\u001b[0m         dictionary \u001b[39m=\u001b[39m {}\n\u001b[0;32m      6\u001b[0m         \u001b[39m# loop through the list\u001b[39;00m\n",
      "\u001b[1;31mNameError\u001b[0m: name 'List' is not defined"
     ]
    }
   ],
   "source": [
    "# 1. Two Sum\n",
    "class Solution:\n",
    "    def twoSum(self, nums: List[int], target: int) -> List[int]:\n",
    "        # create a dictionary to store the index and value of the list\n",
    "        dictionary = {}\n",
    "        # loop through the list\n",
    "        for i in range(len(nums)):\n",
    "            # calculate the complement for each value in the list\n",
    "            complement = target - nums[i]\n",
    "            # if the complement is in the dictionary, return the index of the complement and the index of the current value\n",
    "            if complement in dictionary:\n",
    "                return [dictionary[complement], i]\n",
    "            # if the complement is not in the dictionary, add the current value and index to the dictionary\n",
    "            else:\n",
    "                dictionary[nums[i]] = i"
   ]
  },
  {
   "cell_type": "markdown",
   "metadata": {},
   "source": [
    "## 9. Palindrome Number\n",
    "\n",
    "Given an integer x, return true if x is a palindrome, and false otherwise.\n",
    "\n",
    " \n",
    "\n",
    "Example 1:\n",
    "``````\n",
    "Input: x = 121\n",
    "Output: true\n",
    "Explanation: 121 reads as 121 from left to right and from right to left.\n",
    "``````\n",
    "Example 2:\n",
    "``````\n",
    "Input: x = -121\n",
    "Output: false\n",
    "Explanation: From left to right, it reads -121. From right to left, it becomes 121-. Therefore it is not a palindrome.\n",
    "``````\n",
    "Example 3:\n",
    "``````\n",
    "Input: x = 10\n",
    "Output: false\n",
    "Explanation: Reads 01 from right to left. Therefore it is not a palindrome.\n",
    "``````\n",
    " \n",
    "\n",
    "Constraints:\n",
    "\n",
    "* -231 <= x <= 231 - 1\n",
    "\n",
    " \n",
    "Follow up: Could you solve it without converting the integer to a string?"
   ]
  },
  {
   "cell_type": "code",
   "execution_count": 1,
   "metadata": {},
   "outputs": [],
   "source": [
    "# 9. Palindrome Number\n",
    "\n",
    "class Solution():\n",
    "\n"
   ]
  },
  {
   "cell_type": "code",
   "execution_count": 2,
   "metadata": {},
   "outputs": [
    {
     "name": "stdout",
     "output_type": "stream",
     "text": [
      "Correct\n"
     ]
    }
   ],
   "source": [
    "# Test Case 1\n",
    "test_1 = Solution()\n",
    "\n",
    "x = 121\n",
    "\n",
    "answer = test_1.isPalindrome(x)\n",
    "\n",
    "expected = True\n",
    "\n",
    "if answer == expected:\n",
    "    print(\"Correct\")\n",
    "if answer != expected:\n",
    "    print(\"Wrong\")"
   ]
  },
  {
   "cell_type": "code",
   "execution_count": 3,
   "metadata": {},
   "outputs": [
    {
     "name": "stdout",
     "output_type": "stream",
     "text": [
      "Correct\n"
     ]
    }
   ],
   "source": [
    "# Test Case 2\n",
    "test_2 = Solution()\n",
    "\n",
    "x = -121\n",
    "\n",
    "answer = test_2.isPalindrome(x)\n",
    "\n",
    "expected = False\n",
    "\n",
    "if answer == expected:\n",
    "    print(\"Correct\")\n",
    "if answer != expected:\n",
    "    print(\"Wrong\")"
   ]
  },
  {
   "cell_type": "code",
   "execution_count": 4,
   "metadata": {},
   "outputs": [
    {
     "name": "stdout",
     "output_type": "stream",
     "text": [
      "Correct\n"
     ]
    }
   ],
   "source": [
    "# Test Case 3\n",
    "test_3 = Solution()\n",
    "\n",
    "x = 10\n",
    "\n",
    "answer = test_3.isPalindrome(x)\n",
    "\n",
    "expected = False\n",
    "\n",
    "if answer == expected:\n",
    "    print(\"Correct\")\n",
    "if answer != expected:\n",
    "    print(\"Wrong\")"
   ]
  },
  {
   "cell_type": "markdown",
   "metadata": {},
   "source": [
    "### Solution"
   ]
  },
  {
   "cell_type": "code",
   "execution_count": 41,
   "metadata": {},
   "outputs": [],
   "source": [
    "# 9. Palindrome Number\n",
    "class Solution:\n",
    "    def isPalindrome(self, x: int) -> bool:\n",
    "        # convert the integer to a string\n",
    "        x = str(x)\n",
    "        # create a reverse of the string\n",
    "        reverse = x[::-1]\n",
    "        # if the string and its reverse are the same, return True\n",
    "        if x == reverse:\n",
    "            return True\n",
    "        # if the string and its reverse are not the same, return False\n",
    "        else:\n",
    "            return False"
   ]
  },
  {
   "cell_type": "markdown",
   "metadata": {},
   "source": [
    "## 13. Roman To Integer\n",
    "\n",
    "Roman numerals are represented by seven different symbols: I, V, X, L, C, D and M.\n",
    "\n",
    "Symbol       Value\n",
    "I             1\n",
    "V             5\n",
    "X             10\n",
    "L             50\n",
    "C             100\n",
    "D             500\n",
    "M             1000\n",
    "\n",
    "For example, 2 is written as II in Roman numeral, just two ones added together. 12 is written as XII, which is simply X + II. The number 27 is written as XXVII, which is XX + V + II.\n",
    "\n",
    "Roman numerals are usually written largest to smallest from left to right. However, the numeral for four is not IIII. Instead, the number four is written as IV. Because the one is before the five we subtract it making four. The same principle applies to the number nine, which is written as IX. There are six instances where subtraction is used:\n",
    "\n",
    "* I can be placed before V (5) and X (10) to make 4 and 9. \n",
    "* X can be placed before L (50) and C (100) to make 40 and 90. \n",
    "* C can be placed before D (500) and M (1000) to make 400 and 900.\n",
    "\n",
    "Given a roman numeral, convert it to an integer.\n",
    "\n",
    "Example 1:\n",
    "``````\n",
    "Input: s = \"III\"\n",
    "Output: 3\n",
    "Explanation: III = 3.\n",
    "``````\n",
    "Example 2:\n",
    "``````\n",
    "Input: s = \"LVIII\"\n",
    "Output: 58\n",
    "Explanation: L = 50, V= 5, III = 3.\n",
    "``````\n",
    "Example 3:\n",
    "``````\n",
    "Input: s = \"MCMXCIV\"\n",
    "Output: 1994\n",
    "Explanation: M = 1000, CM = 900, XC = 90 and IV = 4.\n",
    "``````\n",
    " \n",
    "\n",
    "Constraints:\n",
    "\n",
    "* 1 <= s.length <= 15\n",
    "* s contains only the characters ('I', 'V', 'X', 'L', 'C', 'D', 'M').\n",
    "* It is guaranteed that s is a valid roman numeral in the range [1, 3999].\n"
   ]
  },
  {
   "cell_type": "code",
   "execution_count": 1,
   "metadata": {},
   "outputs": [],
   "source": [
    "# 13 Roman To Integer\n",
    "class Solution():\n",
    "\n"
   ]
  },
  {
   "cell_type": "code",
   "execution_count": 2,
   "metadata": {},
   "outputs": [
    {
     "name": "stdout",
     "output_type": "stream",
     "text": [
      "Correct\n"
     ]
    }
   ],
   "source": [
    "# Test Case 1\n",
    "test_1 = Solution()\n",
    "\n",
    "x = 'III'\n",
    "\n",
    "answer = test_1.romanToInt(x)\n",
    "\n",
    "expected = 3\n",
    "\n",
    "if answer == expected:\n",
    "    print(\"Correct\")\n",
    "if answer != expected:\n",
    "    print(\"Wrong\")"
   ]
  },
  {
   "cell_type": "code",
   "execution_count": 3,
   "metadata": {},
   "outputs": [
    {
     "name": "stdout",
     "output_type": "stream",
     "text": [
      "Correct\n"
     ]
    }
   ],
   "source": [
    "# Test Case 2\n",
    "test_2 = Solution()\n",
    "\n",
    "x = 'LVIII'\n",
    "\n",
    "answer = test_2.romanToInt(x)\n",
    "\n",
    "expected = 58\n",
    "\n",
    "if answer == expected:\n",
    "    print(\"Correct\")\n",
    "if answer != expected:\n",
    "    print(\"Wrong\")"
   ]
  },
  {
   "cell_type": "code",
   "execution_count": 4,
   "metadata": {},
   "outputs": [
    {
     "name": "stdout",
     "output_type": "stream",
     "text": [
      "Correct\n"
     ]
    }
   ],
   "source": [
    "# Test Case 3\n",
    "test_3 = Solution()\n",
    "\n",
    "x = 'MCMXCIV'\n",
    "\n",
    "answer = test_3.romanToInt(x)\n",
    "\n",
    "expected = 1994\n",
    "\n",
    "if answer == expected:\n",
    "    print(\"Correct\")\n",
    "if answer != expected:\n",
    "    print(\"Wrong\")"
   ]
  },
  {
   "cell_type": "markdown",
   "metadata": {},
   "source": [
    "Solution"
   ]
  },
  {
   "cell_type": "code",
   "execution_count": null,
   "metadata": {},
   "outputs": [],
   "source": [
    "    def romanToInt(self, roman_numeral):\n",
    "\n",
    "        roman_values = {'I': 1, 'V': 5, 'X': 10, 'L': 50, 'C': 100, 'D': 500, 'M': 1000}\n",
    "        total = 0\n",
    "        previous_value = 0\n",
    "\n",
    "        for i in roman_numeral[::-1]:\n",
    "\n",
    "            current_value = roman_values[i]\n",
    "\n",
    "            if current_value >= previous_value:\n",
    "                total += current_value\n",
    "            else:\n",
    "                total -= current_value\n",
    "\n",
    "            previous_value = current_value\n",
    "\n",
    "        return total"
   ]
  },
  {
   "cell_type": "markdown",
   "metadata": {},
   "source": [
    "# 14 Longest Common Prefix\n",
    "\n",
    "Write a function to find the longest common prefix string amongst an array of strings.\n",
    "\n",
    "If there is no common prefix, return an empty string \"\".\n",
    "\n",
    " \n",
    "\n",
    "Example 1:\n",
    "``````\n",
    "Input: strs = [\"flower\",\"flow\",\"flight\"]\n",
    "Output: \"fl\"\n",
    "``````\n",
    "Example 2:\n",
    "``````\n",
    "Input: strs = [\"dog\",\"racecar\",\"car\"]\n",
    "Output: \"\"\n",
    "Explanation: There is no common prefix among the input strings.\n",
    "``````\n",
    " \n",
    "\n",
    "Constraints:\n",
    "\n",
    "* 1 <= strs.length <= 200\n",
    "* 0 <= strs[i].length <= 200\n",
    "* strs[i] consists of only lowercase English letters.\n",
    "\n"
   ]
  },
  {
   "cell_type": "code",
   "execution_count": 5,
   "metadata": {},
   "outputs": [],
   "source": [
    "class Solution():\n"
   ]
  },
  {
   "cell_type": "code",
   "execution_count": 6,
   "metadata": {},
   "outputs": [
    {
     "name": "stdout",
     "output_type": "stream",
     "text": [
      "Correct\n"
     ]
    }
   ],
   "source": [
    "# Test Case 1\n",
    "test_1 = Solution()\n",
    "\n",
    "str = [\"flower\",\"flow\",\"flight\"]\n",
    "\n",
    "answer = test_1.longestCommonPrefix(str)\n",
    "\n",
    "expected = \"fl\"\n",
    "\n",
    "if answer == expected:\n",
    "    print(\"Correct\")\n",
    "if answer != expected:\n",
    "    print(\"Wrong\")"
   ]
  },
  {
   "cell_type": "code",
   "execution_count": 7,
   "metadata": {},
   "outputs": [
    {
     "name": "stdout",
     "output_type": "stream",
     "text": [
      "Correct\n"
     ]
    }
   ],
   "source": [
    "# Test Case 2\n",
    "test_2 = Solution()\n",
    "\n",
    "str = [\"dog\",\"racecar\",\"car\"]\n",
    "\n",
    "answer = test_1.longestCommonPrefix(str)\n",
    "\n",
    "expected = \"\"\n",
    "\n",
    "if answer == expected:\n",
    "    print(\"Correct\")\n",
    "if answer != expected:\n",
    "    print(\"Wrong\")"
   ]
  },
  {
   "cell_type": "code",
   "execution_count": 1,
   "metadata": {},
   "outputs": [
    {
     "name": "stdout",
     "output_type": "stream",
     "text": [
      "fl\n"
     ]
    }
   ],
   "source": [
    "class Solution:\n",
    "    def longestCommonPrefix(self, strs):\n",
    "        if not strs:\n",
    "            return \"\"\n",
    "\n",
    "        for i, chars in enumerate(zip(*strs)):\n",
    "            if len(set(chars)) > 1:\n",
    "                return strs[0][:i]\n",
    "\n",
    "        return min(strs)\n",
    "\n",
    "# Example usage\n",
    "solution = Solution()\n",
    "strings = [\"flower\", \"flour\", \"flight\"]\n",
    "result = solution.longestCommonPrefix(strings)\n",
    "print(result)  # Output: \"fl\""
   ]
  },
  {
   "cell_type": "markdown",
   "metadata": {},
   "source": [
    "enumerate(zip(*strs)): This part uses the zip function to pair up characters from the same positions in all the strings (*strs unpacks the list of strings). The enumerate function adds an index to each pair, creating a sequence of pairs like (index, characters).\n",
    "\n",
    "for i, chars in enumerate(zip(*strs)):: This is a loop that iterates through each index and its corresponding set of characters from the same positions in all the strings.\n",
    "\n",
    "if len(set(chars)) > 1:: This line checks if there's more than one unique character in the set of characters at the current position. If there's more than one unique character, it means that the common prefix has ended at this position.\n",
    "\n",
    "return strs[0][:i]: If the condition in the previous line is met, it means the loop has found the end of the common prefix. So, this line returns a substring of the first string (strs[0]) starting from the beginning and ending just before the current index i. This substring is the longest common prefix found so far."
   ]
  },
  {
   "cell_type": "markdown",
   "metadata": {},
   "source": [
    "# Python Nodes Review"
   ]
  },
  {
   "cell_type": "code",
   "execution_count": 5,
   "metadata": {},
   "outputs": [],
   "source": [
    "class Node:\n",
    "  \n",
    "  # What we do when we create a new node - set the value and it's link\n",
    "  def __init__(self, value, link_node=None):\n",
    "    self.value = value\n",
    "    self.link_node = link_node\n",
    "\n",
    "  # Function to change the link of the node\n",
    "  def set_link_node(self, link_node):\n",
    "    self.link_node = link_node\n",
    "    \n",
    "  # Function to get what this node is connected to\n",
    "  def get_link_node(self):\n",
    "    return self.link_node\n",
    "  \n",
    "  # Function to get the value this node contains\n",
    "  def get_value(self):\n",
    "    return self.value"
   ]
  },
  {
   "cell_type": "code",
   "execution_count": null,
   "metadata": {},
   "outputs": [],
   "source": [
    "class Node:\n",
    "  \n",
    "  # What we do when we create a new node - set the value and it's link\n",
    "  def __init__(self, value, link_node=None):\n",
    "    self.value = value\n",
    "    self.link_node = link_node\n",
    "    \n",
    "  # Function to change the link of the node\n",
    "  def set_link_node(self, link_node):\n",
    "    self.link_node = link_node\n",
    "    \n",
    "  # Function to get what this node is connected to\n",
    "  def get_link_node(self):\n",
    "    return self.link_node\n",
    "  \n",
    "  # Function to get the value this node contains\n",
    "  def get_value(self):\n",
    "    return self.value"
   ]
  },
  {
   "cell_type": "markdown",
   "metadata": {},
   "source": [
    "1.\n",
    "\n",
    "Outside of Node, instantiate three nodes. None have an argument for link_node:\n",
    "\n",
    "* the first has a value of \"likes to yak\" and be assigned to a variable yacko\n",
    "* the second has a value of \"has a penchant for hoarding snacks\" and be assigned to wacko\n",
    "* the third has a value of \"enjoys spending time in movie lots\" and be assigned to dot\n"
   ]
  },
  {
   "cell_type": "code",
   "execution_count": 9,
   "metadata": {},
   "outputs": [],
   "source": [
    "yacko = Node(\"likes to yack\")\n",
    "wacko = Node('has a penchant for hoarding snacks')\n",
    "dot = Node('enjoys spending time in movie lots')"
   ]
  },
  {
   "cell_type": "code",
   "execution_count": null,
   "metadata": {},
   "outputs": [],
   "source": [
    "yacko = Node(\"likes to yak\")\n",
    "wacko = Node(\"has a penchant for hoarding snacks\")\n",
    "dot = Node(\"enjoys spending time in movie lots\")"
   ]
  },
  {
   "cell_type": "markdown",
   "metadata": {},
   "source": [
    "2.\n",
    "\n",
    "Now let’s give these nodes some responsibilities! yacko can keep track of dot and dot can keep up with wacko. wacko can’t keep track of anything though.\n",
    "\n",
    "Below the newly created nodes, use your .set_link_node() method to give:\n",
    "\n",
    "* yacko a link_node of dot\n",
    "* dot a link_node of wacko"
   ]
  },
  {
   "cell_type": "code",
   "execution_count": 10,
   "metadata": {},
   "outputs": [],
   "source": [
    "yacko.set_link_node(dot)\n",
    "dot.set_link_node(wacko)"
   ]
  },
  {
   "cell_type": "code",
   "execution_count": 15,
   "metadata": {},
   "outputs": [],
   "source": [
    "yacko.set_link_node(dot)\n",
    "dot.set_link_node(wacko)"
   ]
  },
  {
   "cell_type": "markdown",
   "metadata": {},
   "source": [
    "3.\n",
    "\n",
    "Create two new variables, dots_data, and wackos_data. Use both getter methods to get dot‘s value from yacko and get wacko‘s value from dot. Print dots_data and wackos_data to the console to see the results!\n",
    "\n",
    "When your code is passing, take a moment to consider:\n",
    "\n",
    "* How would you get yacko‘s value?\n",
    "* How could you get from yacko to wacko‘s value?\n",
    "* How do you think nodes could be helpful for keeping track of and storing information?"
   ]
  },
  {
   "cell_type": "code",
   "execution_count": 13,
   "metadata": {},
   "outputs": [
    {
     "name": "stdout",
     "output_type": "stream",
     "text": [
      "enjoys spending time in movie lots\n",
      "has a penchant for hoarding snacks\n"
     ]
    }
   ],
   "source": [
    "dots_data = yacko.get_link_node().get_value()\n",
    "wackos_data = yacko.get_link_node().get_link_node().get_value()\n",
    "\n",
    "print(dots_data)\n",
    "print(wackos_data)"
   ]
  },
  {
   "cell_type": "code",
   "execution_count": 14,
   "metadata": {},
   "outputs": [
    {
     "name": "stdout",
     "output_type": "stream",
     "text": [
      "enjoys spending time in movie lots\n",
      "has a penchant for hoarding snacks\n"
     ]
    }
   ],
   "source": [
    "dots_data = yacko.get_link_node().get_value()\n",
    "wackos_data = dot.get_link_node().get_value()\n",
    "print(dots_data)\n",
    "print(wackos_data)"
   ]
  },
  {
   "cell_type": "markdown",
   "metadata": {},
   "source": [
    "## PMF Intuition\n",
    "\n",
    "Let's work through a brief example calculating the probability mass function for a discrete random variable!\n",
    "\n",
    "You have previously seen that a **probability** is a number in the range [0,1] that is calculated as the *frequency expressed as a fraction of the sample size.* This means that, in order to convert any random variable's frequency into a probability, we need to perform the following steps:\n",
    "\n",
    "* Get the frequency of every possible value in the dataset\n",
    "* Divide the frequency of each value by the total number of values (length of dataset)\n",
    "* Get the probability for each value\n",
    "\n",
    "Let's show this using a simple toy example:"
   ]
  },
  {
   "cell_type": "code",
   "execution_count": null,
   "metadata": {},
   "outputs": [
    {
     "name": "stdout",
     "output_type": "stream",
     "text": [
      "Counter({1: 4, 2: 4, 3: 2, 5: 2, 4: 1})\n",
      "13\n"
     ]
    }
   ],
   "source": [
    "# Count the frequency of values in a given dataset\n",
    "import collections\n",
    "x = [1,1,1,1,2,2,2,2,3,3,4,5,5]\n",
    "counter = collections.Counter(x)\n",
    "print(counter)\n",
    "\n",
    "print(len(x))"
   ]
  },
  {
   "cell_type": "markdown",
   "metadata": {},
   "source": [
    "You'll notice that this returned a dictionary, with keys being the possible outcomes, and values of these keys set to the frequency of items. You can calculate the PMF using step 2 above. \n",
    "\n",
    "_Note: You can read more about the `collections` library [here](https://docs.python.org/3.6/library/collections.html)._"
   ]
  },
  {
   "cell_type": "code",
   "execution_count": null,
   "metadata": {},
   "outputs": [
    {
     "name": "stdout",
     "output_type": "stream",
     "text": [
      "dict_keys([1, 2, 3, 4, 5]) [0.31, 0.31, 0.15, 0.08, 0.15]\n"
     ]
    }
   ],
   "source": [
    "# Convert frequency to probability - divide each frequency value by total number of values\n",
    "pmf = []\n",
    "for key,val in counter.items():\n",
    "    pmf.append(round(val/len(x), 2))\n",
    "    \n",
    "print(counter.keys(), pmf)"
   ]
  },
  {
   "cell_type": "markdown",
   "metadata": {},
   "source": [
    "You notice that the PMF is normalized so the total probability is 1."
   ]
  },
  {
   "cell_type": "code",
   "execution_count": null,
   "metadata": {},
   "outputs": [
    {
     "data": {
      "text/plain": [
       "1.0"
      ]
     },
     "metadata": {},
     "output_type": "display_data"
    }
   ],
   "source": [
    "import numpy as np\n",
    "\n",
    "np.array(pmf).sum()"
   ]
  },
  {
   "cell_type": "markdown",
   "metadata": {},
   "source": [
    "If we want, we can write this as an actual Python function, which is \"trained\" using the global variables `x` and `counter` we have already declared."
   ]
  },
  {
   "cell_type": "code",
   "execution_count": null,
   "metadata": {},
   "outputs": [
    {
     "name": "stdout",
     "output_type": "stream",
     "text": [
      "p(1) = 0.3076923076923077\n",
      "p(3) = 0.15384615384615385\n"
     ]
    }
   ],
   "source": [
    "def p(x_i):\n",
    "    frequency = counter[x_i]\n",
    "    total_number = len(x)\n",
    "    return frequency / total_number\n",
    "\n",
    "print(\"p(1) =\", p(1))\n",
    "print(\"p(3) =\", p(3))"
   ]
  },
  {
   "cell_type": "markdown",
   "metadata": {},
   "source": [
    "## Visualizing a PMF\n",
    "\n",
    "You can inspect the probability mass function of a discrete variable by visualizing the distribution using `matplotlib`. You can use a simple bar graph to show the probability mass function using the probabilities calculated above. \n",
    "\n",
    "Here's the code:"
   ]
  },
  {
   "cell_type": "code",
   "execution_count": null,
   "metadata": {},
   "outputs": [
    {
     "data": {
      "image/png": "[encoded data removed]",
      "text/plain": [
       "<Figure size 432x288 with 1 Axes>"
      ]
     },
     "metadata": {},
     "output_type": "display_data"
    }
   ],
   "source": [
    "import matplotlib.pyplot as plt\n",
    "%matplotlib inline\n",
    "plt.style.use('ggplot')\n",
    "\n",
    "outcomes = counter.keys()\n",
    "\n",
    "plt.bar(outcomes, [p(x_i) for x_i in outcomes]);\n",
    "plt.title(\"A Probability Mass Function\")\n",
    "plt.xlabel(\"Outcomes\")\n",
    "plt.ylabel(\"Probabilities of Outcomes\");"
   ]
  },
  {
   "cell_type": "markdown",
   "metadata": {},
   "source": [
    "This looks pretty familiar. It's essentially a normalized histogram! The PMF has already calculated all of the x values and heights for us, so we are using a bar graph to show it.\n",
    "\n",
    "If we weren't using a PMF, we could use a histogram to bin the data for us and produce a similar plot. You can use `plt.hist(x)` to obtain the histogram."
   ]
  },
  {
   "cell_type": "code",
   "execution_count": null,
   "metadata": {},
   "outputs": [
    {
     "data": {
      "image/png": "[encoded data removed]",
      "text/plain": [
       "<Figure size 432x288 with 1 Axes>"
      ]
     },
     "metadata": {},
     "output_type": "display_data"
    }
   ],
   "source": [
    "plt.hist(x);\n",
    "plt.title(\"Histogram of Outcomes\")\n",
    "plt.xlabel(\"Bins of Outcomes\")\n",
    "plt.ylabel(\"Frequencies of Outcomes\");"
   ]
  },
  {
   "cell_type": "markdown",
   "metadata": {},
   "source": [
    "If you look carefully, there are two differences between this histogram and the graph of the PMF above:\n",
    "\n",
    "1. In the PMF graph, the y-axis represents the probabilities, where as in the histogram it represents the frequencies (raw counts). Those histogram values are the same as `counter.values()`.\n",
    "2. In the histogram, the domain (set of input/x values) has been translated into bins along a continuous x, rather than a series of categorical labels (as in the bar graph). This is why the numbers along the bottom don't line up as neatly with the bars.\n",
    "\n",
    "We can tweak the histogram somewhat so that it is closer to the PMF bar graph. First, we can specify `density=True` so that the y-axis will show probabilities. Then we can also customize some of the x-axis scaling and styling."
   ]
  },
  {
   "cell_type": "code",
   "execution_count": null,
   "metadata": {},
   "outputs": [
    {
     "data": {
      "image/png": "[encoded data removed]",
      "text/plain": [
       "<Figure size 432x288 with 1 Axes>"
      ]
     },
     "metadata": {},
     "output_type": "display_data"
    }
   ],
   "source": [
    "xtick_locations = range(1,6)\n",
    "bins = np.arange(6)+0.5\n",
    "plt.hist(x, bins=bins,  rwidth=0.25, density=True)\n",
    "plt.xticks(ticks=xtick_locations)\n",
    "plt.xlabel('Bins of Outcomes')\n",
    "plt.ylabel('Probabilities of Bins of Outcomes')\n",
    "plt.title(\"Adjusted Histogram with `density=True`\");"
   ]
  },
  {
   "cell_type": "markdown",
   "metadata": {},
   "source": [
    "### Why Compare PMF Bar Graph vs. Histogram?\n",
    "\n",
    "The idea here is to help you understand the key distinctions between a PMF bar graph and a typical histogram for showing the probabilities of categorical data.\n",
    "\n",
    "Because a PMF is designed to work with discrete (categorical) data in the first place, no binning, counting, or normalization is needed to display the probability of each possible x value.\n",
    "\n",
    "Histograms are typically used with continuous data to show frequencies, although they can be adapted to show similar information to PMFs. The most important thing to customize is the `density=True` argument, which tells the histogram to normalize the values and display probabilities rather than frequencies."
   ]
  }
 ],
 "metadata": {
  "kernelspec": {
   "display_name": "base",
   "language": "python",
   "name": "python3"
  },
  "language_info": {
   "codemirror_mode": {
    "name": "ipython",
    "version": 3
   },
   "file_extension": ".py",
   "mimetype": "text/x-python",
   "name": "python",
   "nbconvert_exporter": "python",
   "pygments_lexer": "ipython3",
   "version": "3.9.16"
  },
  "orig_nbformat": 4
 },
 "nbformat": 4,
 "nbformat_minor": 2
}
