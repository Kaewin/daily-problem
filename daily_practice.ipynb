{
 "cells": [
  {
   "cell_type": "markdown",
   "metadata": {},
   "source": [
    "# Practice"
   ]
  },
  {
   "cell_type": "markdown",
   "metadata": {},
   "source": [
    "## 1. Two Sum\n",
    "\n",
    "Given an array of integers nums and an integer target, return indices of the two numbers such that they add up to target.\n",
    "\n",
    "You may assume that each input would have exactly one solution, and you may not use the same element twice.\n",
    "\n",
    "You can return the answer in any order."
   ]
  },
  {
   "cell_type": "code",
   "execution_count": 24,
   "metadata": {},
   "outputs": [],
   "source": [
    "class Solution:\n",
    "\n",
    "    def twoSum(self, nums, target):\n",
    "\n",
    "        dictionary = {}\n",
    "\n",
    "        for i in range len(nums):\n",
    "\n",
    "            complement = target - nums[i]\n",
    "\n",
    "            if complement in dictionary:\n",
    "                return [dictionary[complement], i]"
   ]
  },
  {
   "cell_type": "code",
   "execution_count": 25,
   "metadata": {},
   "outputs": [
    {
     "name": "stdout",
     "output_type": "stream",
     "text": [
      "Correct\n"
     ]
    }
   ],
   "source": [
    "# Test Cases:\n",
    "\n",
    "# Test Case 1\n",
    "test_1 = Solution()\n",
    "\n",
    "nums = [2,7,11,15]\n",
    "target = 9\n",
    "\n",
    "answer = test_1.twoSum(nums, target)\n",
    "\n",
    "expected = [0, 1]\n",
    "\n",
    "if answer == expected:\n",
    "    print(\"Correct\")\n",
    "if answer != expected:\n",
    "    print(\"Wrong\")"
   ]
  },
  {
   "cell_type": "code",
   "execution_count": 26,
   "metadata": {},
   "outputs": [
    {
     "name": "stdout",
     "output_type": "stream",
     "text": [
      "Correct\n"
     ]
    }
   ],
   "source": [
    "# Test Case 2\n",
    "test_2 = Solution()\n",
    "\n",
    "nums = [3,2,4]\n",
    "target = 6\n",
    "\n",
    "answer = test_1.twoSum(nums, target)\n",
    "\n",
    "expected = [1, 2]\n",
    "\n",
    "if answer == expected:\n",
    "    print(\"Correct\")\n",
    "if answer != expected:\n",
    "    print(\"Wrong\")"
   ]
  },
  {
   "cell_type": "code",
   "execution_count": 27,
   "metadata": {},
   "outputs": [
    {
     "name": "stdout",
     "output_type": "stream",
     "text": [
      "Correct\n"
     ]
    }
   ],
   "source": [
    "# Test Case 3\n",
    "test_3 = Solution()\n",
    "\n",
    "nums = [3,3]\n",
    "target = 6\n",
    "\n",
    "answer = test_1.twoSum(nums, target)\n",
    "\n",
    "expected = [0, 1]\n",
    "\n",
    "if answer == expected:\n",
    "    print(\"Correct\")\n",
    "if answer != expected:\n",
    "    print(\"Wrong\")"
   ]
  },
  {
   "cell_type": "markdown",
   "metadata": {},
   "source": [
    "### Solution:"
   ]
  },
  {
   "cell_type": "code",
   "execution_count": 28,
   "metadata": {},
   "outputs": [
    {
     "ename": "NameError",
     "evalue": "name 'List' is not defined",
     "output_type": "error",
     "traceback": [
      "\u001b[1;31m---------------------------------------------------------------------------\u001b[0m",
      "\u001b[1;31mNameError\u001b[0m                                 Traceback (most recent call last)",
      "Cell \u001b[1;32mIn[28], line 2\u001b[0m\n\u001b[0;32m      1\u001b[0m \u001b[39m# 1. Two Sum\u001b[39;00m\n\u001b[1;32m----> 2\u001b[0m \u001b[39mclass\u001b[39;00m \u001b[39mSolution\u001b[39;00m:\n\u001b[0;32m      3\u001b[0m     \u001b[39mdef\u001b[39;00m \u001b[39mtwoSum\u001b[39m(\u001b[39mself\u001b[39m, nums: List[\u001b[39mint\u001b[39m], target: \u001b[39mint\u001b[39m) \u001b[39m-\u001b[39m\u001b[39m>\u001b[39m List[\u001b[39mint\u001b[39m]:\n\u001b[0;32m      4\u001b[0m         \u001b[39m# create a dictionary to store the index and value of the list\u001b[39;00m\n\u001b[0;32m      5\u001b[0m         dictionary \u001b[39m=\u001b[39m {}\n",
      "Cell \u001b[1;32mIn[28], line 3\u001b[0m, in \u001b[0;36mSolution\u001b[1;34m()\u001b[0m\n\u001b[0;32m      2\u001b[0m \u001b[39mclass\u001b[39;00m \u001b[39mSolution\u001b[39;00m:\n\u001b[1;32m----> 3\u001b[0m     \u001b[39mdef\u001b[39;00m \u001b[39mtwoSum\u001b[39m(\u001b[39mself\u001b[39m, nums: List[\u001b[39mint\u001b[39m], target: \u001b[39mint\u001b[39m) \u001b[39m-\u001b[39m\u001b[39m>\u001b[39m List[\u001b[39mint\u001b[39m]:\n\u001b[0;32m      4\u001b[0m         \u001b[39m# create a dictionary to store the index and value of the list\u001b[39;00m\n\u001b[0;32m      5\u001b[0m         dictionary \u001b[39m=\u001b[39m {}\n\u001b[0;32m      6\u001b[0m         \u001b[39m# loop through the list\u001b[39;00m\n",
      "\u001b[1;31mNameError\u001b[0m: name 'List' is not defined"
     ]
    }
   ],
   "source": [
    "# 1. Two Sum\n",
    "class Solution:\n",
    "    def twoSum(self, nums: List[int], target: int) -> List[int]:\n",
    "        # create a dictionary to store the index and value of the list\n",
    "        dictionary = {}\n",
    "        # loop through the list\n",
    "        for i in range(len(nums)):\n",
    "            # calculate the complement for each value in the list\n",
    "            complement = target - nums[i]\n",
    "            # if the complement is in the dictionary, return the index of the complement and the index of the current value\n",
    "            if complement in dictionary:\n",
    "                return [dictionary[complement], i]\n",
    "            # if the complement is not in the dictionary, add the current value and index to the dictionary\n",
    "            else:\n",
    "                dictionary[nums[i]] = i"
   ]
  },
  {
   "cell_type": "markdown",
   "metadata": {},
   "source": [
    "## 9. Palindrome Number\n",
    "\n",
    "Given an integer x, return true if x is a palindrome, and false otherwise.\n",
    "\n",
    " \n",
    "\n",
    "Example 1:\n",
    "``````\n",
    "Input: x = 121\n",
    "Output: true\n",
    "Explanation: 121 reads as 121 from left to right and from right to left.\n",
    "``````\n",
    "Example 2:\n",
    "``````\n",
    "Input: x = -121\n",
    "Output: false\n",
    "Explanation: From left to right, it reads -121. From right to left, it becomes 121-. Therefore it is not a palindrome.\n",
    "``````\n",
    "Example 3:\n",
    "``````\n",
    "Input: x = 10\n",
    "Output: false\n",
    "Explanation: Reads 01 from right to left. Therefore it is not a palindrome.\n",
    "``````\n",
    " \n",
    "\n",
    "Constraints:\n",
    "\n",
    "* -231 <= x <= 231 - 1\n",
    "\n",
    " \n",
    "Follow up: Could you solve it without converting the integer to a string?"
   ]
  },
  {
   "cell_type": "code",
   "execution_count": 45,
   "metadata": {},
   "outputs": [],
   "source": [
    "# 9. Palindrome Number\n",
    "\n",
    "class Solution():\n"
   ]
  },
  {
   "cell_type": "code",
   "execution_count": 46,
   "metadata": {},
   "outputs": [
    {
     "name": "stdout",
     "output_type": "stream",
     "text": [
      "Correct\n"
     ]
    }
   ],
   "source": [
    "# Test Case 1\n",
    "test_1 = Solution()\n",
    "\n",
    "x = 121\n",
    "\n",
    "answer = test_1.isPalindrome(x)\n",
    "\n",
    "expected = True\n",
    "\n",
    "if answer == expected:\n",
    "    print(\"Correct\")\n",
    "if answer != expected:\n",
    "    print(\"Wrong\")"
   ]
  },
  {
   "cell_type": "code",
   "execution_count": 35,
   "metadata": {},
   "outputs": [
    {
     "name": "stdout",
     "output_type": "stream",
     "text": [
      "Correct\n"
     ]
    }
   ],
   "source": [
    "# Test Case 2\n",
    "test_2 = Solution()\n",
    "\n",
    "x = -121\n",
    "\n",
    "answer = test_2.isPalindrome(x)\n",
    "\n",
    "expected = False\n",
    "\n",
    "if answer == expected:\n",
    "    print(\"Correct\")\n",
    "if answer != expected:\n",
    "    print(\"Wrong\")"
   ]
  },
  {
   "cell_type": "code",
   "execution_count": 42,
   "metadata": {},
   "outputs": [
    {
     "name": "stdout",
     "output_type": "stream",
     "text": [
      "Correct\n"
     ]
    }
   ],
   "source": [
    "# Test Case 3\n",
    "test_3 = Solution()\n",
    "\n",
    "x = 10\n",
    "\n",
    "answer = test_3.isPalindrome(x)\n",
    "\n",
    "expected = False\n",
    "\n",
    "if answer == expected:\n",
    "    print(\"Correct\")\n",
    "if answer != expected:\n",
    "    print(\"Wrong\")"
   ]
  },
  {
   "cell_type": "markdown",
   "metadata": {},
   "source": [
    "### Solution"
   ]
  },
  {
   "cell_type": "code",
   "execution_count": 41,
   "metadata": {},
   "outputs": [],
   "source": [
    "# 9. Palindrome Number\n",
    "class Solution:\n",
    "    def isPalindrome(self, x: int) -> bool:\n",
    "        # convert the integer to a string\n",
    "        x = str(x)\n",
    "        # create a reverse of the string\n",
    "        reverse = x[::-1]\n",
    "        # if the string and its reverse are the same, return True\n",
    "        if x == reverse:\n",
    "            return True\n",
    "        # if the string and its reverse are not the same, return False\n",
    "        else:\n",
    "            return False"
   ]
  },
  {
   "cell_type": "markdown",
   "metadata": {},
   "source": [
    "## 13. Roman To Integer\n",
    "\n",
    "Roman numerals are represented by seven different symbols: I, V, X, L, C, D and M.\n",
    "\n",
    "Symbol       Value\n",
    "I             1\n",
    "V             5\n",
    "X             10\n",
    "L             50\n",
    "C             100\n",
    "D             500\n",
    "M             1000\n",
    "\n",
    "For example, 2 is written as II in Roman numeral, just two ones added together. 12 is written as XII, which is simply X + II. The number 27 is written as XXVII, which is XX + V + II.\n",
    "\n",
    "Roman numerals are usually written largest to smallest from left to right. However, the numeral for four is not IIII. Instead, the number four is written as IV. Because the one is before the five we subtract it making four. The same principle applies to the number nine, which is written as IX. There are six instances where subtraction is used:\n",
    "\n",
    "* I can be placed before V (5) and X (10) to make 4 and 9. \n",
    "* X can be placed before L (50) and C (100) to make 40 and 90. \n",
    "* C can be placed before D (500) and M (1000) to make 400 and 900.\n",
    "\n",
    "Given a roman numeral, convert it to an integer."
   ]
  },
  {
   "cell_type": "code",
   "execution_count": null,
   "metadata": {},
   "outputs": [],
   "source": [
    "#"
   ]
  },
  {
   "cell_type": "code",
   "execution_count": null,
   "metadata": {},
   "outputs": [],
   "source": []
  },
  {
   "cell_type": "code",
   "execution_count": null,
   "metadata": {},
   "outputs": [],
   "source": []
  },
  {
   "cell_type": "code",
   "execution_count": null,
   "metadata": {},
   "outputs": [],
   "source": []
  },
  {
   "cell_type": "code",
   "execution_count": null,
   "metadata": {},
   "outputs": [],
   "source": []
  }
 ],
 "metadata": {
  "kernelspec": {
   "display_name": "base",
   "language": "python",
   "name": "python3"
  },
  "language_info": {
   "codemirror_mode": {
    "name": "ipython",
    "version": 3
   },
   "file_extension": ".py",
   "mimetype": "text/x-python",
   "name": "python",
   "nbconvert_exporter": "python",
   "pygments_lexer": "ipython3",
   "version": "3.9.16"
  },
  "orig_nbformat": 4
 },
 "nbformat": 4,
 "nbformat_minor": 2
}
