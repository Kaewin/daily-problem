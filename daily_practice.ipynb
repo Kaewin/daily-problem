{
 "cells": [
  {
   "cell_type": "markdown",
   "metadata": {},
   "source": [
    "# Practice"
   ]
  },
  {
   "cell_type": "markdown",
   "metadata": {},
   "source": [
    "## 1. Two Sum\n",
    "\n",
    "Given an array of integers nums and an integer target, return indices of the two numbers such that they add up to target.\n",
    "\n",
    "You may assume that each input would have exactly one solution, and you may not use the same element twice.\n",
    "\n",
    "You can return the answer in any order."
   ]
  },
  {
   "cell_type": "code",
   "execution_count": null,
   "metadata": {},
   "outputs": [],
   "source": [
    "class Solution:\n",
    "\n",
    "    def twoSum(self, nums, target):\n",
    "\n",
    "        dictionary = {}\n",
    "\n",
    "        for i in range(len(nums)):\n",
    "\n",
    "            # A complement, in this case, means the two numbers perfectly add to another number\n",
    "            # In geometry, a complement is when two angles add up to 180\n",
    "            complement = target - nums[i]\n",
    "\n",
    "            # So we're going to find out what the difference is between the first number in the list\n",
    "            # and see if the rest of it is somewhere in the list\n",
    "\n",
    "            if complement in dictionary:\n",
    "                return [dictionary[complement], i]\n",
    "            else:\n",
    "                dictionary[nums[i]] = i"
   ]
  },
  {
   "cell_type": "code",
   "execution_count": null,
   "metadata": {},
   "outputs": [],
   "source": [
    "# 1. Two Sum\n",
    "class Solution:\n",
    "    def twoSum(self, nums: List[int], target: int) -> List[int]:\n",
    "        # create a dictionary to store the index and value of the list\n",
    "        dictionary = {}\n",
    "        # loop through the list\n",
    "        for i in range(len(nums)):\n",
    "            # calculate the complement for each value in the list\n",
    "            complement = target - nums[i]\n",
    "            # if the complement is in the dictionary, return the index of the complement and the index of the current value\n",
    "            if complement in dictionary:\n",
    "                return [dictionary[complement], i]\n",
    "            # if the complement is not in the dictionary, add the current value and index to the dictionary\n",
    "            else:\n",
    "                dictionary[nums[i]] = i"
   ]
  },
  {
   "cell_type": "code",
   "execution_count": null,
   "metadata": {},
   "outputs": [],
   "source": []
  },
  {
   "cell_type": "code",
   "execution_count": null,
   "metadata": {},
   "outputs": [],
   "source": []
  },
  {
   "cell_type": "code",
   "execution_count": null,
   "metadata": {},
   "outputs": [],
   "source": []
  },
  {
   "cell_type": "code",
   "execution_count": null,
   "metadata": {},
   "outputs": [],
   "source": []
  },
  {
   "cell_type": "code",
   "execution_count": null,
   "metadata": {},
   "outputs": [],
   "source": []
  },
  {
   "cell_type": "code",
   "execution_count": null,
   "metadata": {},
   "outputs": [],
   "source": []
  },
  {
   "cell_type": "code",
   "execution_count": null,
   "metadata": {},
   "outputs": [],
   "source": []
  },
  {
   "cell_type": "code",
   "execution_count": null,
   "metadata": {},
   "outputs": [],
   "source": []
  },
  {
   "cell_type": "code",
   "execution_count": null,
   "metadata": {},
   "outputs": [],
   "source": []
  },
  {
   "cell_type": "markdown",
   "metadata": {},
   "source": [
    "# Solution"
   ]
  },
  {
   "cell_type": "code",
   "execution_count": null,
   "metadata": {},
   "outputs": [],
   "source": [
    "# 1. Two Sum\n",
    "class Solution:\n",
    "    def twoSum(self, nums: List[int], target: int) -> List[int]:\n",
    "        # create a dictionary to store the index and value of the list\n",
    "        dictionary = {}\n",
    "        # loop through the list\n",
    "        for i in range(len(nums)):\n",
    "            # calculate the complement for each value in the list\n",
    "            complement = target - nums[i]\n",
    "            # if the complement is in the dictionary, return the index of the complement and the index of the current value\n",
    "            if complement in dictionary:\n",
    "                return [dictionary[complement], i]\n",
    "            # if the complement is not in the dictionary, add the current value and index to the dictionary\n",
    "            else:\n",
    "                dictionary[nums[i]] = i"
   ]
  }
 ],
 "metadata": {
  "language_info": {
   "name": "python"
  },
  "orig_nbformat": 4
 },
 "nbformat": 4,
 "nbformat_minor": 2
}
