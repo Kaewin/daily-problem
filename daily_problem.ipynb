{
 "cells": [
  {
   "cell_type": "code",
   "execution_count": 2,
   "metadata": {},
   "outputs": [],
   "source": [
    "import numpy as np\n",
    "import pandas as pd\n",
    "import seaborn as sns\n",
    "import matplotlib"
   ]
  },
  {
   "cell_type": "markdown",
   "metadata": {},
   "source": [
    "# Prime Number Finder\n",
    "\n",
    "Create a prime_finder() function that takes in a number, n, and returns all the prime numbers from 1 to n (inclusive). As a reminder, a prime number is a number that is only divisible by 1 and itself.\n",
    "\n",
    "For example, prime_finder(11) should return [2, 3, 5, 7, 11].\n",
    "\n",
    "Variations of this challenge have been reported to have been asked at interviews with Facebook. If you’ve covered the material in Pass the Technical Interview with Python or an equivalent, you should be able to solve this challenge. If you have trouble, try refreshing your knowledge there first."
   ]
  },
  {
   "cell_type": "code",
   "execution_count": 1,
   "metadata": {},
   "outputs": [
    {
     "name": "stdout",
     "output_type": "stream",
     "text": [
      "[2, 3, 5, 7, 11]\n"
     ]
    }
   ],
   "source": [
    "'''\n",
    "Code modified from:\n",
    "https://www.quora.com/How-can-I-find-prime-numbers-in-a-list-in-Python\n",
    "\n",
    "'''\n",
    "\n",
    "def prime_finder(n):\n",
    "  num_list = range(n+1)\n",
    "  prime_list = []\n",
    "\n",
    "  for i in num_list:\n",
    "    c = 0\n",
    "    for j in range(1, i):\n",
    "      if i % j == 0:\n",
    "        c += 1\n",
    "    if c == 1:\n",
    "      prime_list.append(i)\n",
    "  return prime_list\n",
    "\n",
    "print(prime_finder(11))"
   ]
  }
 ],
 "metadata": {
  "kernelspec": {
   "display_name": "Python 3",
   "language": "python",
   "name": "python3"
  },
  "language_info": {
   "codemirror_mode": {
    "name": "ipython",
    "version": 3
   },
   "file_extension": ".py",
   "mimetype": "text/x-python",
   "name": "python",
   "nbconvert_exporter": "python",
   "pygments_lexer": "ipython3",
   "version": "3.8.5"
  }
 },
 "nbformat": 4,
 "nbformat_minor": 4
}
