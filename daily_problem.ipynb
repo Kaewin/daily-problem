{
 "cells": [
  {
   "attachments": {},
   "cell_type": "markdown",
   "metadata": {},
   "source": [
    "# Intro\n",
    "\n",
    "Statements to import libraries I might want to use later."
   ]
  },
  {
   "cell_type": "code",
   "execution_count": 1,
   "metadata": {},
   "outputs": [],
   "source": [
    "import numpy as np\n",
    "import pandas as pd\n",
    "import seaborn as sns\n",
    "import matplotlib"
   ]
  },
  {
   "cell_type": "markdown",
   "metadata": {},
   "source": [
    "# Prime Number Finder\n",
    "\n",
    "Create a prime_finder() function that takes in a number, n, and returns all the prime numbers from 1 to n (inclusive). As a reminder, a prime number is a number that is only divisible by 1 and itself.\n",
    "\n",
    "For example, prime_finder(11) should return [2, 3, 5, 7, 11].\n",
    "\n",
    "Variations of this challenge have been reported to have been asked at interviews with Facebook. If you’ve covered the material in Pass the Technical Interview with Python or an equivalent, you should be able to solve this challenge. If you have trouble, try refreshing your knowledge there first."
   ]
  },
  {
   "cell_type": "code",
   "execution_count": 2,
   "metadata": {},
   "outputs": [
    {
     "name": "stdout",
     "output_type": "stream",
     "text": [
      "[2, 3, 5, 7, 11]\n"
     ]
    }
   ],
   "source": [
    "'''\n",
    "Code modified from:\n",
    "https://www.quora.com/How-can-I-find-prime-numbers-in-a-list-in-Python\n",
    "\n",
    "'''\n",
    "\n",
    "def prime_finder(n):\n",
    "  num_list = range(n+1)\n",
    "  prime_list = []\n",
    "\n",
    "  for i in num_list:\n",
    "    # c resets to 0 every time the for\n",
    "    # loop resets\n",
    "    c = 0\n",
    "    for j in range(1, i):\n",
    "      if i % j == 0:\n",
    "        c += 1\n",
    "      # This if statement is executed before\n",
    "      # The check for c == 1\n",
    "      # So if there's only one \n",
    "      # It's a prime. If c > 1\n",
    "      # It's not\n",
    "    if c == 1:\n",
    "      prime_list.append(i)\n",
    "  return prime_list\n",
    "\n",
    "print(prime_finder(11))"
   ]
  },
  {
   "cell_type": "markdown",
   "metadata": {},
   "source": [
    "# Every Three Numbers\n",
    "\n",
    "Let’s start our challenging problems with a function that creates a list of numbers up to 100 in increments of 3 starting from a number that is passed to the function as an input parameter. Here is what we need to do:\n",
    "\n",
    "    Define the function to accept one parameter for our starting number\n",
    "    Calculate the numbers between the starting number and 100 while incrementing by 3\n",
    "    Store the numbers in a list\n",
    "    Return the list\n"
   ]
  },
  {
   "cell_type": "code",
   "execution_count": 3,
   "metadata": {},
   "outputs": [
    {
     "data": {
      "text/plain": [
       "[91, 94, 97, 100]"
      ]
     },
     "execution_count": 3,
     "metadata": {},
     "output_type": "execute_result"
    }
   ],
   "source": [
    "# Define the function to accept one parameter for our starting number\n",
    "# Calculate the numbers between the starting number and 100 while incrementing by 3\n",
    "# Store the numbers in a list\n",
    "# Return the list\n",
    "\n",
    "def increment_by_3(starting_num):\n",
    "    \n",
    "    num_list = list(range(starting_num, 101, 3))\n",
    "\n",
    "    return num_list\n",
    "\n",
    "increment_by_3(91)"
   ]
  },
  {
   "cell_type": "markdown",
   "metadata": {},
   "source": [
    "# Remove Middle\n",
    "\n",
    "Our next function will remove all elements from a list with an index within a certain range. The function will accept a list, a starting index, and an ending index. All elements with an index between the starting and ending index should be removed from the list. Here are the steps:\n",
    "\n",
    "    Define the function to accept three parameters: the list, the starting index, and the ending index\n",
    "    Get all elements before the starting index\n",
    "    Get all elements after the ending index\n",
    "    Combine the two partial lists into the result\n",
    "    Return the result\n"
   ]
  },
  {
   "cell_type": "code",
   "execution_count": 4,
   "metadata": {},
   "outputs": [
    {
     "name": "stdout",
     "output_type": "stream",
     "text": [
      "[4]\n",
      "[23, 42]\n",
      "[4, 23, 42]\n"
     ]
    }
   ],
   "source": [
    "# Define the function to accept three parameters: the list, the starting index, and the ending index\n",
    "# Get all elements before the starting index\n",
    "# Get all elements after the ending index\n",
    "# Combine the two partial lists into the result\n",
    "# Return the result\n",
    "\n",
    "def remove_middle(input_list, start_index, end_index):\n",
    "    before = input_list[:start_index]\n",
    "    after = input_list[end_index+1:]\n",
    "    \n",
    "    combined = before + after\n",
    "    \n",
    "    print(before)\n",
    "    print(after)\n",
    "    \n",
    "    return combined\n",
    "\n",
    "print(remove_middle([4, 8, 15, 16, 23, 42], 1, 3))"
   ]
  },
  {
   "cell_type": "markdown",
   "metadata": {},
   "source": [
    "# More Frequent Item\n",
    "\n",
    "Let’s go back to our factory example. We have a conveyor belt of items where each item is represented by a different number. We want to know, out of two items, which one shows up more on our belt. To solve this, we can use a function with three parameters. One parameter for the list of items, another for the first item we are comparing, and another for the second item. Here are the steps:\n",
    "\n",
    "    Define the function to accept three parameters: the list, the first item, and the second item\n",
    "    Count the number of times item1 shows up in our list\n",
    "    Count the number of times item2 shows up in our list\n",
    "    Return the item that appears more frequently in my_list — if both items show up the same number of times, return item1\n"
   ]
  },
  {
   "cell_type": "code",
   "execution_count": 5,
   "metadata": {},
   "outputs": [],
   "source": [
    "# Define the function to accept three parameters: the list, the first item, and the second item\n",
    "# Count the number of times item1 shows up in our list\n",
    "# Count the number of times item2 shows up in our list\n",
    "# Return the item that appears more frequently in my_list — if both items show up the same number of times, return item1\n",
    "\n",
    "def more_frequent_item(input_list, first, second):\n",
    "    \n",
    "    item_1_times = input_list.count(first)\n",
    "    item_2_times = input_list.count(second)\n",
    "    \n",
    "    if item_1_times > item_2_times:\n",
    "        return first\n",
    "    if item_1_times < item_2_times:\n",
    "        return second\n",
    "    else:\n",
    "        return first"
   ]
  },
  {
   "cell_type": "markdown",
   "metadata": {},
   "source": [
    "# Double Index\n",
    "\n",
    "Our next function will double a value at a given position. We will provide a list and an index to double. This will create a new list by replacing the value at the index provided with double the original value. If the index is invalid then we should return the original list. Here is what we need to do:\n",
    "\n",
    "    Define the function to accept two parameters, one for the list and another for the index of the value we are going to \n",
    "    double\n",
    "    Test if the index is invalid. If it’s invalid then return the original list\n",
    "    If the index is valid then get all values up to the index and store it as a new list\n",
    "    Append the value at the index times 2 to the new list\n",
    "    Add the rest of the list from the index onto the new list\n",
    "    Return the new list\n"
   ]
  },
  {
   "cell_type": "code",
   "execution_count": 6,
   "metadata": {},
   "outputs": [
    {
     "data": {
      "text/plain": [
       "[1, 2, 3, 4, 5, 12]"
      ]
     },
     "execution_count": 6,
     "metadata": {},
     "output_type": "execute_result"
    }
   ],
   "source": [
    "# Define the function to accept two parameters, one for the list and another for the index of the value we are going to \n",
    "# double\n",
    "# Test if the index is invalid. If it’s invalid then return the original list\n",
    "# If the index is valid then get all values up to the index and store it as a new list\n",
    "# Append the value at the index times 2 to the new list\n",
    "# Add the rest of the list from the index onto the new list\n",
    "# Return the new list\n",
    "\n",
    "def double_index(my_list, index):\n",
    "    \n",
    "    # Index must be within the \n",
    "    # range of the list's indexes\n",
    "    if index >= len(my_list):\n",
    "        return my_list\n",
    "    \n",
    "    new_list = my_list[:index]\n",
    "    new_list.append(my_list[index] * 2)\n",
    "    new_list = new_list + my_list[index+1:]\n",
    "    \n",
    "    return new_list\n",
    "\n",
    "list = [1, 2, 3, 4, 5, 6]\n",
    "\n",
    "double_index(list, 5)"
   ]
  },
  {
   "cell_type": "markdown",
   "metadata": {},
   "source": [
    "# Middle Item\n",
    "\n",
    "For the final code challenge, we are going to create a function that finds the middle item from a list of values. This will be different depending on whether there are an odd or even number of values. In the case of an odd number of elements, we want this function to return the exact middle value. If there is an even number of elements, it returns the average of the middle two elements. Here is what we need to do:\n",
    "\n",
    "    Define the function to accept one parameter for our list of numbers\n",
    "    Determine if the length of the list is even or odd\n",
    "    If the length is even, then return the average of the middle two numbers\n",
    "    If the length is odd, then return the middle number\n"
   ]
  },
  {
   "cell_type": "code",
   "execution_count": 7,
   "metadata": {},
   "outputs": [
    {
     "data": {
      "text/plain": [
       "-7"
      ]
     },
     "execution_count": 7,
     "metadata": {},
     "output_type": "execute_result"
    }
   ],
   "source": [
    "def middle_element(my_list):\n",
    "    # Check if list length odd or even\n",
    "    length = len(my_list)\n",
    "    if length % 2 == 0:\n",
    "        return ((my_list[int(length/2)-1]) + (my_list[int(length/2)])) // 2\n",
    "    if length % 2 != 0:\n",
    "        return my_list[int(length/2)]\n",
    "    \n",
    "list = [1, 2, 3, 4, 5, 6]\n",
    "\n",
    "middle_element([5, 2, -10, -4, 4, 5])\n"
   ]
  },
  {
   "attachments": {},
   "cell_type": "markdown",
   "metadata": {},
   "source": [
    "# Larger Sum\n",
    "\n",
    "We are going to start our advanced challenge problems by calculating which list of two inputs has the larger sum. We will iterate through each of the list and calculate the sums, afterwards we will compare the two and return which one has a greater sum. Here are the steps we need:\n",
    "\n",
    "    Define the function to accept two input parameters: lst1 and lst2\n",
    "    Create two variables to record the two sums\n",
    "    Loop through the first list and add up all of the numbers\n",
    "    Loop through the second list and add up all of the numbers\n",
    "    Compare the first and second sum and return the list with the greater sum\n"
   ]
  },
  {
   "cell_type": "code",
   "execution_count": 5,
   "metadata": {},
   "outputs": [
    {
     "name": "stdout",
     "output_type": "stream",
     "text": [
      "[1, 9, 5]\n"
     ]
    }
   ],
   "source": [
    "#Write your function here\n",
    "def larger_sum(lst1, lst2):\n",
    "    v1 = 0\n",
    "    v2 = 0\n",
    "\n",
    "    for items in lst1:\n",
    "        v1 += items\n",
    "    for items in lst2:\n",
    "        v2 += items\n",
    "\n",
    "    if v1 > v2:\n",
    "        return lst1\n",
    "    if v2 > v1:\n",
    "        return lst2\n",
    "    else:\n",
    "        return \"equivalent size\"\n",
    "\n",
    "#Uncomment the line below when your function is done\n",
    "print(larger_sum([1, 9, 5], [2, 3, 7]))\n",
    "\n",
    "\n",
    "\n"
   ]
  },
  {
   "attachments": {},
   "cell_type": "markdown",
   "metadata": {},
   "source": [
    "# Over 9000\n",
    "\n",
    "We are constructing a device that is able to measure the power level of our coding abilities and according to the device, it will be impossible for our power levels to be over 9000. Because of this, as we iterate through a list of power values we will count up each of the numbers until our sum reaches a value greater than 9000. Once this happens, we should stop adding the numbers and return the value where we stopped. In order to do this, we will need the following steps:\n",
    "\n",
    "    Define the function to accept a list of numbers\n",
    "    Create a variable to keep track of our sum\n",
    "    Iterate through every element in our list of numbers\n",
    "    Within the loop, add the current number we are looking at to our sum\n",
    "    Still within the loop, check if the sum is greater than 9000. If it is, end the loop\n",
    "    Return the value of the sum when we ended our loop\n"
   ]
  },
  {
   "cell_type": "code",
   "execution_count": 6,
   "metadata": {},
   "outputs": [
    {
     "name": "stdout",
     "output_type": "stream",
     "text": [
      "9020\n"
     ]
    }
   ],
   "source": [
    "#Write your function here\n",
    "def over_nine_thousand(input_list):\n",
    "    sum = 0\n",
    "    for elements in input_list:\n",
    "        sum += elements\n",
    "        if sum > 9000:\n",
    "            break\n",
    "    return sum\n",
    "\n",
    "#Uncomment the line below when your function is done\n",
    "print(over_nine_thousand([8000, 900, 120, 5000]))"
   ]
  },
  {
   "attachments": {},
   "cell_type": "markdown",
   "metadata": {},
   "source": [
    "# Max Num\n",
    "\n",
    "Here is a more traditional coding problem for you. This function will be used to find the maximum number in a list of numbers. This can be accomplished using the max() function in python, but as a challenge, we are going to manually implement this function. Here is what we need to do:\n",
    "\n",
    "    Define the function to accept a list of numbers called nums\n",
    "    Set our default maximum value to be the first element in the list\n",
    "    Loop through every number in the list of numbers\n",
    "    Within the loop, if we find a number greater than our starting maximum, then replace the maximum with what we found.\n",
    "    Return the maximum number\n"
   ]
  },
  {
   "cell_type": "code",
   "execution_count": 13,
   "metadata": {},
   "outputs": [
    {
     "name": "stdout",
     "output_type": "stream",
     "text": [
      "75\n"
     ]
    }
   ],
   "source": [
    "#Write your function here\n",
    "def max_num(input_list):\n",
    "    max_num = input_list[0]\n",
    "    for items in input_list:\n",
    "        if items > max_num:\n",
    "            max_num = items\n",
    "    return max_num\n",
    "\n",
    "#Uncomment the line below when your function is done\n",
    "print(max_num([50, -10, 0, 75, 20]))"
   ]
  },
  {
   "attachments": {},
   "cell_type": "markdown",
   "metadata": {},
   "source": [
    "# Same Values\n",
    "\n",
    "In this challenge, we need to find the indices in two equally sized lists where the numbers match. We will be iterating through both of them at the same time and comparing the values, if the numbers are equal, then we record the index. These are the steps we need to accomplish this:\n",
    "\n",
    "    Define our function to accept two lists of numbers\n",
    "    Create a new list to store our matching indices\n",
    "    Loop through each index to the end of either of our lists\n",
    "    Within the loop, check if our first list at the current index is equal to the second list at the current index. If so, append the index where they matched\n",
    "    Return our list of indices\n"
   ]
  },
  {
   "cell_type": "code",
   "execution_count": 18,
   "metadata": {},
   "outputs": [
    {
     "name": "stdout",
     "output_type": "stream",
     "text": [
      "[0, 2, 3]\n"
     ]
    }
   ],
   "source": [
    "#Write your function here\n",
    "def same_values(list1, list2):\n",
    "    matching_indices = []\n",
    "    index = 0\n",
    "    for items in list1:\n",
    "        if list1[index] == list2[index]:\n",
    "            matching_indices.append(index)\n",
    "        index += 1\n",
    "    return matching_indices\n",
    "\n",
    "#Uncomment the line below when your function is done\n",
    "print(same_values([5, 1, -10, 3, 3], [5, 10, -10, 3, 5]))"
   ]
  },
  {
   "attachments": {},
   "cell_type": "markdown",
   "metadata": {},
   "source": [
    "# Reversed List\n",
    "\n",
    "For the final challenge, we are going to test two lists to see if the second list is the reverse of the first list. There are a few different ways to approach this, but we are going to try a method that iterates through each of the values in one direction for the first list and compares them against the values starting from the other direction in the second list. Here is what you need to do:\n",
    "\n",
    "    Define a function that has two input parameters for our lists\n",
    "    Loop through every index in one of the lists from beginning to end\n",
    "    Within the loop, compare the element in the first list at the current index against the element at the second list’s last index minus the current index. If there was a mismatch, then the lists aren’t reversed and we can return False\n",
    "    If the loop ended successfully, then we know the lists are reversed and we can return True.\n"
   ]
  },
  {
   "cell_type": "code",
   "execution_count": 32,
   "metadata": {},
   "outputs": [
    {
     "name": "stdout",
     "output_type": "stream",
     "text": [
      "True\n",
      "False\n"
     ]
    }
   ],
   "source": [
    "#Write your function here\n",
    "def reversed_list(lst1, lst2):\n",
    "  for index in range(len(lst1)):\n",
    "    if lst1[index] != lst2[len(lst2) - 1 - index]:\n",
    "      return False\n",
    "  return True\n",
    "\n",
    "#Uncomment the lines below when your function is done\n",
    "print(reversed_list([1, 2, 3], [3, 2, 1]))\n",
    "print(reversed_list([1, 5, 3], [3, 2, 1]))"
   ]
  },
  {
   "attachments": {},
   "cell_type": "markdown",
   "metadata": {},
   "source": [
    "# First Three Multiples\n",
    "\n",
    "Let’s start by creating a function which both prints and returns values. For this function, we are going to print out the first three multiples of a number and return the third multiple. This means that we are going to print 1, 2, and 3 times the input number and then return the value of 3 times the input number. For this, we are going to need a few steps:\n",
    "\n",
    "    Define the function header to accept one input parameter called num\n",
    "    Print out 1 times num\n",
    "    Print out 2 times num\n",
    "    Print out 3 times num\n",
    "    Return the value of 3 times num\n"
   ]
  },
  {
   "cell_type": "code",
   "execution_count": 3,
   "metadata": {},
   "outputs": [
    {
     "name": "stdout",
     "output_type": "stream",
     "text": [
      "10\n",
      "20\n",
      "30\n",
      "0\n",
      "0\n",
      "0\n"
     ]
    },
    {
     "data": {
      "text/plain": [
       "0"
      ]
     },
     "execution_count": 3,
     "metadata": {},
     "output_type": "execute_result"
    }
   ],
   "source": [
    "# Write your first_three_multiples function here\n",
    "def first_three_multiples(num):\n",
    "    print(1 * num)\n",
    "    print(2 * num)\n",
    "    print(3 * num)\n",
    "    return 3 * num\n",
    "\n",
    "# Uncomment these function calls to test your first_three_multiples function:\n",
    "first_three_multiples(10)\n",
    "# should print 10, 20, 30, and return 30\n",
    "first_three_multiples(0)\n",
    "# should print 0, 0, 0, and return 0"
   ]
  },
  {
   "attachments": {},
   "cell_type": "markdown",
   "metadata": {},
   "source": [
    "# Tip\n",
    "\n",
    "Let’s say we are going to a restaurant and we decide to leave a tip. We can create a function to easily calculate the amount to tip based on the total cost of the food and a percentage. This function will accept both of those values as inputs and return the amount of money to tip. In order to do this, we will need a few steps:\n",
    "\n",
    "    Define the function to accept the total cost of the food called total and the percentage to tip as percentage\n",
    "    Calculate the tip amount by multiplying the total and percentage and dividing by 100\n",
    "    Return the tip amount\n"
   ]
  },
  {
   "cell_type": "code",
   "execution_count": 8,
   "metadata": {},
   "outputs": [
    {
     "name": "stdout",
     "output_type": "stream",
     "text": [
      "2.5\n",
      "0.0\n"
     ]
    }
   ],
   "source": [
    "# Write your tip function here:\n",
    "def tip(cost, percent):\n",
    "    percent_amount = percent / 100\n",
    "    amount = cost * percent_amount\n",
    "    return amount\n",
    " \n",
    "# Uncomment these function calls to test your tip function:\n",
    "print(tip(10, 25))\n",
    "# should print 2.5\n",
    "print(tip(0, 100))\n",
    "# should print 0.0"
   ]
  },
  {
   "attachments": {},
   "cell_type": "markdown",
   "metadata": {},
   "source": [
    "# Bond, James Bond\n",
    "\n",
    "It’s time to re-create a famous movie scene through code. Our function is going to concatenate strings together in order to replace James Bond’s name with whatever name we want. The input to our function will be two strings, one for a first name and another for a last name. The function will return a string consisting of the famous phrase but replaced with our inputs. To accomplish this, we need to:\n",
    "\n",
    "    Define the function to accept two parameters, first_name and last_name\n",
    "    Concatenate the string ', ' on to the last_name\n",
    "    Concatenate the first_name on to the result of the previous step\n",
    "    Concatenate a space on to the result\n",
    "    Concatenate the last_name again to the result\n",
    "    Return the final string\n"
   ]
  },
  {
   "cell_type": "code",
   "execution_count": 9,
   "metadata": {},
   "outputs": [
    {
     "name": "stdout",
     "output_type": "stream",
     "text": [
      "Bond, James Bond\n",
      "Angelou, Maya Angelou\n"
     ]
    }
   ],
   "source": [
    "# Write your introduction function here:\n",
    "def introduction(first_name, last_name):\n",
    "    last_name_final = last_name + ', ' \n",
    "    name_final = last_name_final + first_name + ' ' + last_name\n",
    "    return name_final\n",
    "\n",
    "# Uncomment these function calls to test your introduction function:\n",
    "print(introduction(\"James\", \"Bond\"))\n",
    "# should print Bond, James Bond\n",
    "print(introduction(\"Maya\", \"Angelou\"))\n",
    "# should print Angelou, Maya Angelou"
   ]
  },
  {
   "attachments": {},
   "cell_type": "markdown",
   "metadata": {},
   "source": [
    "# Dog Years\n",
    "\n",
    "Let’s create a function which calculates a dog’s age in dog years! This function will accept the name of the dog and the age in human years. It will calculate the age of the dog in dog years and return a string describing the dog’s age. This will require a few steps:\n",
    "\n",
    "    Define the function called dog_years to accept two parameters: name and age\n",
    "    Calculate the age of the dog in dog years\n",
    "    Concatenate the string with the dog’s name and age in dog years\n",
    "    Return the resulting string\n"
   ]
  },
  {
   "cell_type": "code",
   "execution_count": 12,
   "metadata": {},
   "outputs": [
    {
     "name": "stdout",
     "output_type": "stream",
     "text": [
      "Lola, you are 112 years old in dog years\n",
      "Baby, you are 0 years old in dog years\n"
     ]
    }
   ],
   "source": [
    "# Write your dog_years function here:\n",
    "def dog_years(name, age):\n",
    "    dog_years = age * 7\n",
    "    string_return = f\"{name}, you are {dog_years} years old in dog years\"\n",
    "    return string_return\n",
    "\n",
    "# Uncomment these function calls to test your dog_years function:\n",
    "print(dog_years(\"Lola\", 16))\n",
    "# should print \"Lola, you are 112 years old in dog years\"\n",
    "print(dog_years(\"Baby\", 0))\n",
    "# should print \"Baby, you are 0 years old in dog years\""
   ]
  },
  {
   "attachments": {},
   "cell_type": "markdown",
   "metadata": {},
   "source": [
    "# All Operations\n",
    "\n",
    "For the final code challenge, we are going to perform multiple mathematical operations on multiple inputs to the function. We will begin with adding the first two inputs, then we will subtract the third and fourth inputs. After that, we will multiply the first result and the second result. In the end, we will return the remainder of the previous result divided by the first input. We will also print each of the steps. The steps needed to complete this are:\n",
    "\n",
    "    Define the function to accept four inputs: a, b, c, and d\n",
    "    Print and store the result of a + b\n",
    "    Print and store the result of c - d\n",
    "    Print and store the first result times the second result\n",
    "    Return the previous result modulo a\n"
   ]
  },
  {
   "cell_type": "code",
   "execution_count": 16,
   "metadata": {},
   "outputs": [
    {
     "name": "stdout",
     "output_type": "stream",
     "text": [
      "3\n",
      "-1\n",
      "-3\n",
      "0\n",
      "0\n",
      "2\n",
      "0\n",
      "0\n",
      "0\n",
      "0\n"
     ]
    }
   ],
   "source": [
    "# Write your lots_of_math function here:\n",
    "def lots_of_math(a, b, c, d):\n",
    "    one = a + b\n",
    "    print(one)\n",
    "    two = c - d\n",
    "    print(two)\n",
    "    result = one * two\n",
    "    print(result)\n",
    "    final_result = result % a\n",
    "    print(final_result)\n",
    "    return final_result\n",
    "\n",
    "# Uncomment these function calls to test your lots_of_math function:\n",
    "print(lots_of_math(1, 2, 3, 4))\n",
    "# should print 3, -1, -3, 0\n",
    "print(lots_of_math(1, 1, 1, 1))\n",
    "# should print 2, 0, 0, 0"
   ]
  },
  {
   "attachments": {},
   "cell_type": "markdown",
   "metadata": {},
   "source": [
    "# Count Letters\n",
    "\n",
    "For the first code challenge, we are going to count the number of unique letters in a string. This means that when we are looking at the word, any new letters should be counted and any duplicates should not be counted. There are a few ways to solve this, but we can use the provided alphabet string to ensure that duplicates are not counted. Here is what we need to do:\n",
    "\n",
    "    Define the function to accept one parameter — the word whose letters we are counting\n",
    "    Create a counter to keep track of unique letters\n",
    "    Loop through every letter in our alphabet string. If the current letter was found in our word, increase our count\n",
    "    Return the count after looping through all letters.\n"
   ]
  },
  {
   "cell_type": "code",
   "execution_count": 2,
   "metadata": {},
   "outputs": [
    {
     "name": "stdout",
     "output_type": "stream",
     "text": [
      "4\n",
      "4\n"
     ]
    }
   ],
   "source": [
    "letters = \"ABCDEFGHIJKLMNOPQRSTUVWXYZabcdefghijklmnopqrstuvwxyz\"\n",
    "# Write your unique_english_letters function here:\n",
    "def unique_english_letters(word):\n",
    "    count = 0\n",
    "    for letter in letters:\n",
    "        if letter in word:\n",
    "            count += 1\n",
    "    return count\n",
    "\n",
    "# Uncomment these function calls to test your function:\n",
    "print(unique_english_letters(\"mississippi\"))\n",
    "# should print 4\n",
    "print(unique_english_letters(\"Apple\"))\n",
    "# should print 4"
   ]
  },
  {
   "attachments": {},
   "cell_type": "markdown",
   "metadata": {},
   "source": [
    "# Count X\n",
    "\n",
    "Next, we are going to try something a bit different. This time we are going to count the number of occurrences of a certain letter within a string. Our function will accept a parameter for a string and another for the character which we are going to count. For example, providing the word \"mississippi\" and the character 's' would result in an answer of 4. These are the steps we need to take:\n",
    "\n",
    "    Define the function to accept two parameters. word for the input string and x for the single character\n",
    "    Create a counter to keep track of the occurrences\n",
    "    Loop through every letter in the string. If the current letter is equal to the input letter, increase our counter\n",
    "    Return the counter after looping through the entire string.\n"
   ]
  },
  {
   "cell_type": "code",
   "execution_count": 4,
   "metadata": {},
   "outputs": [
    {
     "name": "stdout",
     "output_type": "stream",
     "text": [
      "4\n",
      "1\n"
     ]
    }
   ],
   "source": [
    "# Write your count_char_x function here:\n",
    "def count_char_x(word, single_char):\n",
    "    counter = 0\n",
    "    for letters in word:\n",
    "        if letters == single_char:\n",
    "            counter += 1\n",
    "    return counter\n",
    "\n",
    "# Uncomment these function calls to test your tip function:\n",
    "print(count_char_x(\"mississippi\", \"s\"))\n",
    "# should print 4\n",
    "print(count_char_x(\"mississippi\", \"m\"))\n",
    "# should print 1"
   ]
  },
  {
   "attachments": {},
   "cell_type": "markdown",
   "metadata": {},
   "source": [
    "# Count Multi X\n",
    "\n",
    "Now let’s change our function to compare against an entire string instead of a single character. This function should accept a string and a substring to compare against. The number of occurrences of the second parameter within the first parameter string are returned. What this means is that we are checking the number of occurrences of the shorter string (second parameter) within the longer string (first parameter). One way to accomplish this is using the split function. Here is how to do that:\n",
    "\n",
    "    Define the function to accept two parameters. word for the input string and x for the second string we are searching for\n",
    "    Split the string into substrings based on the second input parameter\n",
    "    Count the number of instances the substring appeared in the first input string based on the split string\n",
    "    Return the result\n"
   ]
  },
  {
   "cell_type": "code",
   "execution_count": 9,
   "metadata": {},
   "outputs": [
    {
     "name": "stdout",
     "output_type": "stream",
     "text": [
      "3\n",
      "['m', '', 'ippi']\n",
      "2\n",
      "2\n",
      "['a', 'le']\n",
      "1\n"
     ]
    }
   ],
   "source": [
    "# Write your count_multi_char_x function here:\n",
    "def count_multi_char_x(input_string, second_string):\n",
    "    split = input_string.split(second_string)\n",
    "    print(len(split))\n",
    "    print(split)\n",
    "    counts = len(split) - 1\n",
    "    return counts\n",
    "\n",
    "# Uncomment these function calls to test your function:\n",
    "print(count_multi_char_x(\"mississippi\", \"iss\"))\n",
    "# should print 2\n",
    "print(count_multi_char_x(\"apple\", \"pp\"))\n",
    "# should print 1"
   ]
  },
  {
   "attachments": {},
   "cell_type": "markdown",
   "metadata": {},
   "source": [
    "# Substring Between\n",
    "\n",
    "Here is a challenging problem. We need a function that is able to extract a portion of a string between two characters. The function will take three parameters where the first parameter is the string we are going to extract the substring from, the second input is the starting character of our substring and the third character is the ending character of our substring. Here are the steps we can use:\n",
    "\n",
    "    Define the function to accept three parameters, one string and two characters\n",
    "    find the starting index of our substring using the second input parameter\n",
    "    find the ending index of our substring using the third input parameter\n",
    "    If neither of the indices are -1, return the portion of the first input parameter string between the starting and ending indices (not including the starting and ending index)\n",
    "    If either of the indices are -1, that means the start or end of the substring didn’t exist in our string. Return the original string in this case.\n"
   ]
  },
  {
   "cell_type": "code",
   "execution_count": null,
   "metadata": {},
   "outputs": [],
   "source": [
    "# Write your substring_between_letters function here:\n",
    "def substring_between_letters(input_string, char_one, char_two):\n",
    "    return\n",
    "\n",
    "# Uncomment these function calls to test your function:\n",
    "print(substring_between_letters(\"apple\", \"p\", \"e\"))\n",
    "# should print \"pl\"\n",
    "print(substring_between_letters(\"apple\", \"p\", \"c\"))\n",
    "# should print \"apple\""
   ]
  }
 ],
 "metadata": {
  "kernelspec": {
   "display_name": "base",
   "language": "python",
   "name": "python3"
  },
  "language_info": {
   "codemirror_mode": {
    "name": "ipython",
    "version": 3
   },
   "file_extension": ".py",
   "mimetype": "text/x-python",
   "name": "python",
   "nbconvert_exporter": "python",
   "pygments_lexer": "ipython3",
   "version": "3.9.13"
  }
 },
 "nbformat": 4,
 "nbformat_minor": 4
}
