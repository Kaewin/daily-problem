{
 "cells": [
  {
   "cell_type": "code",
   "execution_count": 1,
   "metadata": {},
   "outputs": [],
   "source": [
    "import numpy as np\n",
    "import pandas as pd\n",
    "import seaborn as sns\n",
    "import matplotlib"
   ]
  },
  {
   "cell_type": "markdown",
   "metadata": {},
   "source": [
    "# Prime Number Finder\n",
    "\n",
    "Create a prime_finder() function that takes in a number, n, and returns all the prime numbers from 1 to n (inclusive). As a reminder, a prime number is a number that is only divisible by 1 and itself.\n",
    "\n",
    "For example, prime_finder(11) should return [2, 3, 5, 7, 11].\n",
    "\n",
    "Variations of this challenge have been reported to have been asked at interviews with Facebook. If you’ve covered the material in Pass the Technical Interview with Python or an equivalent, you should be able to solve this challenge. If you have trouble, try refreshing your knowledge there first."
   ]
  },
  {
   "cell_type": "code",
   "execution_count": 2,
   "metadata": {},
   "outputs": [
    {
     "name": "stdout",
     "output_type": "stream",
     "text": [
      "[2, 3, 5, 7, 11]\n"
     ]
    }
   ],
   "source": [
    "'''\n",
    "Code modified from:\n",
    "https://www.quora.com/How-can-I-find-prime-numbers-in-a-list-in-Python\n",
    "\n",
    "'''\n",
    "\n",
    "def prime_finder(n):\n",
    "  num_list = range(n+1)\n",
    "  prime_list = []\n",
    "\n",
    "  for i in num_list:\n",
    "    # c resets to 0 every time the for\n",
    "    # loop resets\n",
    "    c = 0\n",
    "    for j in range(1, i):\n",
    "      if i % j == 0:\n",
    "        c += 1\n",
    "      # This if statement is executed before\n",
    "      # The check for c == 1\n",
    "      # So if there's only one \n",
    "      # It's a prime. If c > 1\n",
    "      # It's not\n",
    "    if c == 1:\n",
    "      prime_list.append(i)\n",
    "  return prime_list\n",
    "\n",
    "print(prime_finder(11))"
   ]
  },
  {
   "cell_type": "markdown",
   "metadata": {},
   "source": [
    "# Every Three Numbers\n",
    "\n",
    "Let’s start our challenging problems with a function that creates a list of numbers up to 100 in increments of 3 starting from a number that is passed to the function as an input parameter. Here is what we need to do:\n",
    "\n",
    "    Define the function to accept one parameter for our starting number\n",
    "    Calculate the numbers between the starting number and 100 while incrementing by 3\n",
    "    Store the numbers in a list\n",
    "    Return the list\n"
   ]
  },
  {
   "cell_type": "code",
   "execution_count": 3,
   "metadata": {},
   "outputs": [
    {
     "data": {
      "text/plain": [
       "[91, 94, 97, 100]"
      ]
     },
     "execution_count": 3,
     "metadata": {},
     "output_type": "execute_result"
    }
   ],
   "source": [
    "# Define the function to accept one parameter for our starting number\n",
    "# Calculate the numbers between the starting number and 100 while incrementing by 3\n",
    "# Store the numbers in a list\n",
    "# Return the list\n",
    "\n",
    "def increment_by_3(starting_num):\n",
    "    \n",
    "    num_list = list(range(starting_num, 101, 3))\n",
    "\n",
    "    return num_list\n",
    "\n",
    "increment_by_3(91)"
   ]
  },
  {
   "cell_type": "markdown",
   "metadata": {},
   "source": [
    "# Remove Middle\n",
    "\n",
    "Our next function will remove all elements from a list with an index within a certain range. The function will accept a list, a starting index, and an ending index. All elements with an index between the starting and ending index should be removed from the list. Here are the steps:\n",
    "\n",
    "    Define the function to accept three parameters: the list, the starting index, and the ending index\n",
    "    Get all elements before the starting index\n",
    "    Get all elements after the ending index\n",
    "    Combine the two partial lists into the result\n",
    "    Return the result\n"
   ]
  },
  {
   "cell_type": "code",
   "execution_count": 4,
   "metadata": {},
   "outputs": [
    {
     "name": "stdout",
     "output_type": "stream",
     "text": [
      "[4]\n",
      "[23, 42]\n",
      "[4, 23, 42]\n"
     ]
    }
   ],
   "source": [
    "# Define the function to accept three parameters: the list, the starting index, and the ending index\n",
    "# Get all elements before the starting index\n",
    "# Get all elements after the ending index\n",
    "# Combine the two partial lists into the result\n",
    "# Return the result\n",
    "\n",
    "def remove_middle(input_list, start_index, end_index):\n",
    "    before = input_list[:start_index]\n",
    "    after = input_list[end_index+1:]\n",
    "    \n",
    "    combined = before + after\n",
    "    \n",
    "    print(before)\n",
    "    print(after)\n",
    "    \n",
    "    return combined\n",
    "\n",
    "print(remove_middle([4, 8, 15, 16, 23, 42], 1, 3))"
   ]
  },
  {
   "cell_type": "markdown",
   "metadata": {},
   "source": [
    "# More Frequent Item\n",
    "\n",
    "Let’s go back to our factory example. We have a conveyor belt of items where each item is represented by a different number. We want to know, out of two items, which one shows up more on our belt. To solve this, we can use a function with three parameters. One parameter for the list of items, another for the first item we are comparing, and another for the second item. Here are the steps:\n",
    "\n",
    "    Define the function to accept three parameters: the list, the first item, and the second item\n",
    "    Count the number of times item1 shows up in our list\n",
    "    Count the number of times item2 shows up in our list\n",
    "    Return the item that appears more frequently in my_list — if both items show up the same number of times, return item1\n"
   ]
  },
  {
   "cell_type": "code",
   "execution_count": 5,
   "metadata": {},
   "outputs": [],
   "source": [
    "# Define the function to accept three parameters: the list, the first item, and the second item\n",
    "# Count the number of times item1 shows up in our list\n",
    "# Count the number of times item2 shows up in our list\n",
    "# Return the item that appears more frequently in my_list — if both items show up the same number of times, return item1\n",
    "\n",
    "def more_frequent_item(input_list, first, second):\n",
    "    \n",
    "    item_1_times = input_list.count(first)\n",
    "    item_2_times = input_list.count(second)\n",
    "    \n",
    "    if item_1_times > item_2_times:\n",
    "        return first\n",
    "    if item_1_times < item_2_times:\n",
    "        return second\n",
    "    else:\n",
    "        return first"
   ]
  },
  {
   "cell_type": "markdown",
   "metadata": {},
   "source": [
    "# Double Index\n",
    "\n",
    "Our next function will double a value at a given position. We will provide a list and an index to double. This will create a new list by replacing the value at the index provided with double the original value. If the index is invalid then we should return the original list. Here is what we need to do:\n",
    "\n",
    "    Define the function to accept two parameters, one for the list and another for the index of the value we are going to \n",
    "    double\n",
    "    Test if the index is invalid. If it’s invalid then return the original list\n",
    "    If the index is valid then get all values up to the index and store it as a new list\n",
    "    Append the value at the index times 2 to the new list\n",
    "    Add the rest of the list from the index onto the new list\n",
    "    Return the new list\n"
   ]
  },
  {
   "cell_type": "code",
   "execution_count": 6,
   "metadata": {},
   "outputs": [
    {
     "data": {
      "text/plain": [
       "[1, 2, 3, 4, 5, 12]"
      ]
     },
     "execution_count": 6,
     "metadata": {},
     "output_type": "execute_result"
    }
   ],
   "source": [
    "# Define the function to accept two parameters, one for the list and another for the index of the value we are going to \n",
    "# double\n",
    "# Test if the index is invalid. If it’s invalid then return the original list\n",
    "# If the index is valid then get all values up to the index and store it as a new list\n",
    "# Append the value at the index times 2 to the new list\n",
    "# Add the rest of the list from the index onto the new list\n",
    "# Return the new list\n",
    "\n",
    "def double_index(my_list, index):\n",
    "    \n",
    "    # Index must be within the \n",
    "    # range of the list's indexes\n",
    "    if index >= len(my_list):\n",
    "        return my_list\n",
    "    \n",
    "    new_list = my_list[:index]\n",
    "    new_list.append(my_list[index] * 2)\n",
    "    new_list = new_list + my_list[index+1:]\n",
    "    \n",
    "    return new_list\n",
    "\n",
    "list = [1, 2, 3, 4, 5, 6]\n",
    "\n",
    "double_index(list, 5)"
   ]
  },
  {
   "cell_type": "markdown",
   "metadata": {},
   "source": [
    "# Middle Item\n",
    "\n",
    "For the final code challenge, we are going to create a function that finds the middle item from a list of values. This will be different depending on whether there are an odd or even number of values. In the case of an odd number of elements, we want this function to return the exact middle value. If there is an even number of elements, it returns the average of the middle two elements. Here is what we need to do:\n",
    "\n",
    "    Define the function to accept one parameter for our list of numbers\n",
    "    Determine if the length of the list is even or odd\n",
    "    If the length is even, then return the average of the middle two numbers\n",
    "    If the length is odd, then return the middle number\n"
   ]
  },
  {
   "cell_type": "code",
   "execution_count": 7,
   "metadata": {},
   "outputs": [
    {
     "data": {
      "text/plain": [
       "-7"
      ]
     },
     "execution_count": 7,
     "metadata": {},
     "output_type": "execute_result"
    }
   ],
   "source": [
    "def middle_element(my_list):\n",
    "    # Check if list length odd or even\n",
    "    length = len(my_list)\n",
    "    if length % 2 == 0:\n",
    "        return ((my_list[int(length/2)-1]) + (my_list[int(length/2)])) // 2\n",
    "    if length % 2 != 0:\n",
    "        return my_list[int(length/2)]\n",
    "    \n",
    "list = [1, 2, 3, 4, 5, 6]\n",
    "\n",
    "middle_element([5, 2, -10, -4, 4, 5])\n"
   ]
  },
  {
   "attachments": {},
   "cell_type": "markdown",
   "metadata": {},
   "source": [
    "# Larger Sum\n",
    "\n",
    "We are going to start our advanced challenge problems by calculating which list of two inputs has the larger sum. We will iterate through each of the list and calculate the sums, afterwards we will compare the two and return which one has a greater sum. Here are the steps we need:\n",
    "\n",
    "    Define the function to accept two input parameters: lst1 and lst2\n",
    "    Create two variables to record the two sums\n",
    "    Loop through the first list and add up all of the numbers\n",
    "    Loop through the second list and add up all of the numbers\n",
    "    Compare the first and second sum and return the list with the greater sum\n"
   ]
  },
  {
   "cell_type": "code",
   "execution_count": 5,
   "metadata": {},
   "outputs": [
    {
     "name": "stdout",
     "output_type": "stream",
     "text": [
      "[1, 9, 5]\n"
     ]
    }
   ],
   "source": [
    "#Write your function here\n",
    "def larger_sum(lst1, lst2):\n",
    "    v1 = 0\n",
    "    v2 = 0\n",
    "\n",
    "    for items in lst1:\n",
    "        v1 += items\n",
    "    for items in lst2:\n",
    "        v2 += items\n",
    "\n",
    "    if v1 > v2:\n",
    "        return lst1\n",
    "    if v2 > v1:\n",
    "        return lst2\n",
    "    else:\n",
    "        return \"equivalent size\"\n",
    "\n",
    "#Uncomment the line below when your function is done\n",
    "print(larger_sum([1, 9, 5], [2, 3, 7]))\n",
    "\n",
    "\n",
    "\n"
   ]
  },
  {
   "attachments": {},
   "cell_type": "markdown",
   "metadata": {},
   "source": [
    "# Over 9000\n",
    "\n",
    "We are constructing a device that is able to measure the power level of our coding abilities and according to the device, it will be impossible for our power levels to be over 9000. Because of this, as we iterate through a list of power values we will count up each of the numbers until our sum reaches a value greater than 9000. Once this happens, we should stop adding the numbers and return the value where we stopped. In order to do this, we will need the following steps:\n",
    "\n",
    "    Define the function to accept a list of numbers\n",
    "    Create a variable to keep track of our sum\n",
    "    Iterate through every element in our list of numbers\n",
    "    Within the loop, add the current number we are looking at to our sum\n",
    "    Still within the loop, check if the sum is greater than 9000. If it is, end the loop\n",
    "    Return the value of the sum when we ended our loop\n"
   ]
  },
  {
   "cell_type": "code",
   "execution_count": 6,
   "metadata": {},
   "outputs": [
    {
     "name": "stdout",
     "output_type": "stream",
     "text": [
      "9020\n"
     ]
    }
   ],
   "source": [
    "#Write your function here\n",
    "def over_nine_thousand(input_list):\n",
    "    sum = 0\n",
    "    for elements in input_list:\n",
    "        sum += elements\n",
    "        if sum > 9000:\n",
    "            break\n",
    "    return sum\n",
    "\n",
    "#Uncomment the line below when your function is done\n",
    "print(over_nine_thousand([8000, 900, 120, 5000]))"
   ]
  }
 ],
 "metadata": {
  "kernelspec": {
   "display_name": "Python (learn-env)",
   "language": "python",
   "name": "learn-env"
  },
  "language_info": {
   "codemirror_mode": {
    "name": "ipython",
    "version": 3
   },
   "file_extension": ".py",
   "mimetype": "text/x-python",
   "name": "python",
   "nbconvert_exporter": "python",
   "pygments_lexer": "ipython3",
   "version": "3.8.5"
  }
 },
 "nbformat": 4,
 "nbformat_minor": 4
}
