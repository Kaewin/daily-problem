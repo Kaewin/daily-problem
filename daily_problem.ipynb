{
 "cells": [
  {
   "attachments": {},
   "cell_type": "markdown",
   "metadata": {},
   "source": [
    "# Intro\n",
    "\n",
    "Statements to import libraries I might want to use later."
   ]
  },
  {
   "cell_type": "code",
   "execution_count": 2,
   "metadata": {},
   "outputs": [],
   "source": [
    "import numpy as np\n",
    "import pandas as pd\n",
    "import seaborn as sns\n",
    "import matplotlib"
   ]
  },
  {
   "attachments": {},
   "cell_type": "markdown",
   "metadata": {},
   "source": [
    "# Prime Number Finder\n",
    "\n",
    "Create a prime_finder() function that takes in a number, n, and returns all the prime numbers from 1 to n (inclusive). As a reminder, a prime number is a number that is only divisible by 1 and itself.\n",
    "\n",
    "For example, prime_finder(11) should return [2, 3, 5, 7, 11].\n",
    "\n",
    "Variations of this challenge have been reported to have been asked at interviews with Facebook. If you’ve covered the material in Pass the Technical Interview with Python or an equivalent, you should be able to solve this challenge. If you have trouble, try refreshing your knowledge there first."
   ]
  },
  {
   "cell_type": "code",
   "execution_count": 3,
   "metadata": {},
   "outputs": [
    {
     "name": "stdout",
     "output_type": "stream",
     "text": [
      "[2, 3, 5, 7, 11]\n"
     ]
    }
   ],
   "source": [
    "'''\n",
    "Code modified from:\n",
    "https://www.quora.com/How-can-I-find-prime-numbers-in-a-list-in-Python\n",
    "\n",
    "'''\n",
    "\n",
    "def prime_finder(n):\n",
    "  num_list = range(n+1)\n",
    "  prime_list = []\n",
    "\n",
    "  for i in num_list:\n",
    "    # c resets to 0 every time the for\n",
    "    # loop resets\n",
    "    c = 0\n",
    "    for j in range(1, i):\n",
    "      if i % j == 0:\n",
    "        c += 1\n",
    "      # This if statement is executed before\n",
    "      # The check for c == 1\n",
    "      # So if there's only one \n",
    "      # It's a prime. If c > 1\n",
    "      # It's not\n",
    "    if c == 1:\n",
    "      prime_list.append(i)\n",
    "  return prime_list\n",
    "\n",
    "print(prime_finder(11))"
   ]
  },
  {
   "attachments": {},
   "cell_type": "markdown",
   "metadata": {},
   "source": [
    "# Every Three Numbers\n",
    "\n",
    "Let’s start our challenging problems with a function that creates a list of numbers up to 100 in increments of 3 starting from a number that is passed to the function as an input parameter. Here is what we need to do:\n",
    "\n",
    "    Define the function to accept one parameter for our starting number\n",
    "    Calculate the numbers between the starting number and 100 while incrementing by 3\n",
    "    Store the numbers in a list\n",
    "    Return the list\n"
   ]
  },
  {
   "cell_type": "code",
   "execution_count": 4,
   "metadata": {},
   "outputs": [
    {
     "data": {
      "text/plain": [
       "[91, 94, 97, 100]"
      ]
     },
     "execution_count": 4,
     "metadata": {},
     "output_type": "execute_result"
    }
   ],
   "source": [
    "# Define the function to accept one parameter for our starting number\n",
    "# Calculate the numbers between the starting number and 100 while incrementing by 3\n",
    "# Store the numbers in a list\n",
    "# Return the list\n",
    "\n",
    "def increment_by_3(starting_num):\n",
    "    \n",
    "    num_list = list(range(starting_num, 101, 3))\n",
    "\n",
    "    return num_list\n",
    "\n",
    "increment_by_3(91)"
   ]
  },
  {
   "attachments": {},
   "cell_type": "markdown",
   "metadata": {},
   "source": [
    "# Remove Middle\n",
    "\n",
    "Our next function will remove all elements from a list with an index within a certain range. The function will accept a list, a starting index, and an ending index. All elements with an index between the starting and ending index should be removed from the list. Here are the steps:\n",
    "\n",
    "    Define the function to accept three parameters: the list, the starting index, and the ending index\n",
    "    Get all elements before the starting index\n",
    "    Get all elements after the ending index\n",
    "    Combine the two partial lists into the result\n",
    "    Return the result\n"
   ]
  },
  {
   "cell_type": "code",
   "execution_count": 5,
   "metadata": {},
   "outputs": [
    {
     "name": "stdout",
     "output_type": "stream",
     "text": [
      "[4]\n",
      "[23, 42]\n",
      "[4, 23, 42]\n"
     ]
    }
   ],
   "source": [
    "# Define the function to accept three parameters: the list, the starting index, and the ending index\n",
    "# Get all elements before the starting index\n",
    "# Get all elements after the ending index\n",
    "# Combine the two partial lists into the result\n",
    "# Return the result\n",
    "\n",
    "def remove_middle(input_list, start_index, end_index):\n",
    "    before = input_list[:start_index]\n",
    "    after = input_list[end_index+1:]\n",
    "    \n",
    "    combined = before + after\n",
    "    \n",
    "    print(before)\n",
    "    print(after)\n",
    "    \n",
    "    return combined\n",
    "\n",
    "print(remove_middle([4, 8, 15, 16, 23, 42], 1, 3))"
   ]
  },
  {
   "attachments": {},
   "cell_type": "markdown",
   "metadata": {},
   "source": [
    "# More Frequent Item\n",
    "\n",
    "Let’s go back to our factory example. We have a conveyor belt of items where each item is represented by a different number. We want to know, out of two items, which one shows up more on our belt. To solve this, we can use a function with three parameters. One parameter for the list of items, another for the first item we are comparing, and another for the second item. Here are the steps:\n",
    "\n",
    "    Define the function to accept three parameters: the list, the first item, and the second item\n",
    "    Count the number of times item1 shows up in our list\n",
    "    Count the number of times item2 shows up in our list\n",
    "    Return the item that appears more frequently in my_list — if both items show up the same number of times, return item1\n"
   ]
  },
  {
   "cell_type": "code",
   "execution_count": 6,
   "metadata": {},
   "outputs": [],
   "source": [
    "# Define the function to accept three parameters: the list, the first item, and the second item\n",
    "# Count the number of times item1 shows up in our list\n",
    "# Count the number of times item2 shows up in our list\n",
    "# Return the item that appears more frequently in my_list — if both items show up the same number of times, return item1\n",
    "\n",
    "def more_frequent_item(input_list, first, second):\n",
    "    \n",
    "    item_1_times = input_list.count(first)\n",
    "    item_2_times = input_list.count(second)\n",
    "    \n",
    "    if item_1_times > item_2_times:\n",
    "        return first\n",
    "    if item_1_times < item_2_times:\n",
    "        return second\n",
    "    else:\n",
    "        return first"
   ]
  },
  {
   "attachments": {},
   "cell_type": "markdown",
   "metadata": {},
   "source": [
    "# Double Index\n",
    "\n",
    "Our next function will double a value at a given position. We will provide a list and an index to double. This will create a new list by replacing the value at the index provided with double the original value. If the index is invalid then we should return the original list. Here is what we need to do:\n",
    "\n",
    "    Define the function to accept two parameters, one for the list and another for the index of the value we are going to \n",
    "    double\n",
    "    Test if the index is invalid. If it’s invalid then return the original list\n",
    "    If the index is valid then get all values up to the index and store it as a new list\n",
    "    Append the value at the index times 2 to the new list\n",
    "    Add the rest of the list from the index onto the new list\n",
    "    Return the new list\n"
   ]
  },
  {
   "cell_type": "code",
   "execution_count": 7,
   "metadata": {},
   "outputs": [
    {
     "data": {
      "text/plain": [
       "[1, 2, 3, 4, 5, 12]"
      ]
     },
     "execution_count": 7,
     "metadata": {},
     "output_type": "execute_result"
    }
   ],
   "source": [
    "# Define the function to accept two parameters, one for the list and another for the index of the value we are going to \n",
    "# double\n",
    "# Test if the index is invalid. If it’s invalid then return the original list\n",
    "# If the index is valid then get all values up to the index and store it as a new list\n",
    "# Append the value at the index times 2 to the new list\n",
    "# Add the rest of the list from the index onto the new list\n",
    "# Return the new list\n",
    "\n",
    "def double_index(my_list, index):\n",
    "    \n",
    "    # Index must be within the \n",
    "    # range of the list's indexes\n",
    "    if index >= len(my_list):\n",
    "        return my_list\n",
    "    \n",
    "    new_list = my_list[:index]\n",
    "    new_list.append(my_list[index] * 2)\n",
    "    new_list = new_list + my_list[index+1:]\n",
    "    \n",
    "    return new_list\n",
    "\n",
    "list = [1, 2, 3, 4, 5, 6]\n",
    "\n",
    "double_index(list, 5)"
   ]
  },
  {
   "attachments": {},
   "cell_type": "markdown",
   "metadata": {},
   "source": [
    "# Middle Item\n",
    "\n",
    "For the final code challenge, we are going to create a function that finds the middle item from a list of values. This will be different depending on whether there are an odd or even number of values. In the case of an odd number of elements, we want this function to return the exact middle value. If there is an even number of elements, it returns the average of the middle two elements. Here is what we need to do:\n",
    "\n",
    "    Define the function to accept one parameter for our list of numbers\n",
    "    Determine if the length of the list is even or odd\n",
    "    If the length is even, then return the average of the middle two numbers\n",
    "    If the length is odd, then return the middle number\n"
   ]
  },
  {
   "cell_type": "code",
   "execution_count": 8,
   "metadata": {},
   "outputs": [
    {
     "data": {
      "text/plain": [
       "-7"
      ]
     },
     "execution_count": 8,
     "metadata": {},
     "output_type": "execute_result"
    }
   ],
   "source": [
    "def middle_element(my_list):\n",
    "    # Check if list length odd or even\n",
    "    length = len(my_list)\n",
    "    if length % 2 == 0:\n",
    "        return ((my_list[int(length/2)-1]) + (my_list[int(length/2)])) // 2\n",
    "    if length % 2 != 0:\n",
    "        return my_list[int(length/2)]\n",
    "    \n",
    "list = [1, 2, 3, 4, 5, 6]\n",
    "\n",
    "middle_element([5, 2, -10, -4, 4, 5])\n"
   ]
  },
  {
   "attachments": {},
   "cell_type": "markdown",
   "metadata": {},
   "source": [
    "# Larger Sum\n",
    "\n",
    "We are going to start our advanced challenge problems by calculating which list of two inputs has the larger sum. We will iterate through each of the list and calculate the sums, afterwards we will compare the two and return which one has a greater sum. Here are the steps we need:\n",
    "\n",
    "    Define the function to accept two input parameters: lst1 and lst2\n",
    "    Create two variables to record the two sums\n",
    "    Loop through the first list and add up all of the numbers\n",
    "    Loop through the second list and add up all of the numbers\n",
    "    Compare the first and second sum and return the list with the greater sum\n"
   ]
  },
  {
   "cell_type": "code",
   "execution_count": 9,
   "metadata": {},
   "outputs": [
    {
     "name": "stdout",
     "output_type": "stream",
     "text": [
      "[1, 9, 5]\n"
     ]
    }
   ],
   "source": [
    "#Write your function here\n",
    "def larger_sum(lst1, lst2):\n",
    "    v1 = 0\n",
    "    v2 = 0\n",
    "\n",
    "    for items in lst1:\n",
    "        v1 += items\n",
    "    for items in lst2:\n",
    "        v2 += items\n",
    "\n",
    "    if v1 > v2:\n",
    "        return lst1\n",
    "    if v2 > v1:\n",
    "        return lst2\n",
    "    else:\n",
    "        return \"equivalent size\"\n",
    "\n",
    "#Uncomment the line below when your function is done\n",
    "print(larger_sum([1, 9, 5], [2, 3, 7]))\n",
    "\n",
    "\n",
    "\n"
   ]
  },
  {
   "attachments": {},
   "cell_type": "markdown",
   "metadata": {},
   "source": [
    "# Over 9000\n",
    "\n",
    "We are constructing a device that is able to measure the power level of our coding abilities and according to the device, it will be impossible for our power levels to be over 9000. Because of this, as we iterate through a list of power values we will count up each of the numbers until our sum reaches a value greater than 9000. Once this happens, we should stop adding the numbers and return the value where we stopped. In order to do this, we will need the following steps:\n",
    "\n",
    "    Define the function to accept a list of numbers\n",
    "    Create a variable to keep track of our sum\n",
    "    Iterate through every element in our list of numbers\n",
    "    Within the loop, add the current number we are looking at to our sum\n",
    "    Still within the loop, check if the sum is greater than 9000. If it is, end the loop\n",
    "    Return the value of the sum when we ended our loop\n"
   ]
  },
  {
   "cell_type": "code",
   "execution_count": 10,
   "metadata": {},
   "outputs": [
    {
     "name": "stdout",
     "output_type": "stream",
     "text": [
      "9020\n"
     ]
    }
   ],
   "source": [
    "#Write your function here\n",
    "def over_nine_thousand(input_list):\n",
    "    sum = 0\n",
    "    for elements in input_list:\n",
    "        sum += elements\n",
    "        if sum > 9000:\n",
    "            break\n",
    "    return sum\n",
    "\n",
    "#Uncomment the line below when your function is done\n",
    "print(over_nine_thousand([8000, 900, 120, 5000]))"
   ]
  },
  {
   "attachments": {},
   "cell_type": "markdown",
   "metadata": {},
   "source": [
    "# Max Num\n",
    "\n",
    "Here is a more traditional coding problem for you. This function will be used to find the maximum number in a list of numbers. This can be accomplished using the max() function in python, but as a challenge, we are going to manually implement this function. Here is what we need to do:\n",
    "\n",
    "    Define the function to accept a list of numbers called nums\n",
    "    Set our default maximum value to be the first element in the list\n",
    "    Loop through every number in the list of numbers\n",
    "    Within the loop, if we find a number greater than our starting maximum, then replace the maximum with what we found.\n",
    "    Return the maximum number\n"
   ]
  },
  {
   "cell_type": "code",
   "execution_count": 11,
   "metadata": {},
   "outputs": [
    {
     "name": "stdout",
     "output_type": "stream",
     "text": [
      "75\n"
     ]
    }
   ],
   "source": [
    "#Write your function here\n",
    "def max_num(input_list):\n",
    "    max_num = input_list[0]\n",
    "    for items in input_list:\n",
    "        if items > max_num:\n",
    "            max_num = items\n",
    "    return max_num\n",
    "\n",
    "#Uncomment the line below when your function is done\n",
    "print(max_num([50, -10, 0, 75, 20]))"
   ]
  },
  {
   "attachments": {},
   "cell_type": "markdown",
   "metadata": {},
   "source": [
    "# Same Values\n",
    "\n",
    "In this challenge, we need to find the indices in two equally sized lists where the numbers match. We will be iterating through both of them at the same time and comparing the values, if the numbers are equal, then we record the index. These are the steps we need to accomplish this:\n",
    "\n",
    "    Define our function to accept two lists of numbers\n",
    "    Create a new list to store our matching indices\n",
    "    Loop through each index to the end of either of our lists\n",
    "    Within the loop, check if our first list at the current index is equal to the second list at the current index. If so, append the index where they matched\n",
    "    Return our list of indices\n"
   ]
  },
  {
   "cell_type": "code",
   "execution_count": 12,
   "metadata": {},
   "outputs": [
    {
     "name": "stdout",
     "output_type": "stream",
     "text": [
      "[0, 2, 3]\n"
     ]
    }
   ],
   "source": [
    "#Write your function here\n",
    "def same_values(list1, list2):\n",
    "    matching_indices = []\n",
    "    index = 0\n",
    "    for items in list1:\n",
    "        if list1[index] == list2[index]:\n",
    "            matching_indices.append(index)\n",
    "        index += 1\n",
    "    return matching_indices\n",
    "\n",
    "#Uncomment the line below when your function is done\n",
    "print(same_values([5, 1, -10, 3, 3], [5, 10, -10, 3, 5]))"
   ]
  },
  {
   "attachments": {},
   "cell_type": "markdown",
   "metadata": {},
   "source": [
    "# Reversed List\n",
    "\n",
    "For the final challenge, we are going to test two lists to see if the second list is the reverse of the first list. There are a few different ways to approach this, but we are going to try a method that iterates through each of the values in one direction for the first list and compares them against the values starting from the other direction in the second list. Here is what you need to do:\n",
    "\n",
    "    Define a function that has two input parameters for our lists\n",
    "    Loop through every index in one of the lists from beginning to end\n",
    "    Within the loop, compare the element in the first list at the current index against the element at the second list’s last index minus the current index. If there was a mismatch, then the lists aren’t reversed and we can return False\n",
    "    If the loop ended successfully, then we know the lists are reversed and we can return True.\n"
   ]
  },
  {
   "cell_type": "code",
   "execution_count": 13,
   "metadata": {},
   "outputs": [
    {
     "name": "stdout",
     "output_type": "stream",
     "text": [
      "True\n",
      "False\n"
     ]
    }
   ],
   "source": [
    "#Write your function here\n",
    "def reversed_list(lst1, lst2):\n",
    "  for index in range(len(lst1)):\n",
    "    if lst1[index] != lst2[len(lst2) - 1 - index]:\n",
    "      return False\n",
    "  return True\n",
    "\n",
    "#Uncomment the lines below when your function is done\n",
    "print(reversed_list([1, 2, 3], [3, 2, 1]))\n",
    "print(reversed_list([1, 5, 3], [3, 2, 1]))"
   ]
  },
  {
   "attachments": {},
   "cell_type": "markdown",
   "metadata": {},
   "source": [
    "# First Three Multiples\n",
    "\n",
    "Let’s start by creating a function which both prints and returns values. For this function, we are going to print out the first three multiples of a number and return the third multiple. This means that we are going to print 1, 2, and 3 times the input number and then return the value of 3 times the input number. For this, we are going to need a few steps:\n",
    "\n",
    "    Define the function header to accept one input parameter called num\n",
    "    Print out 1 times num\n",
    "    Print out 2 times num\n",
    "    Print out 3 times num\n",
    "    Return the value of 3 times num\n"
   ]
  },
  {
   "cell_type": "code",
   "execution_count": 14,
   "metadata": {},
   "outputs": [
    {
     "name": "stdout",
     "output_type": "stream",
     "text": [
      "10\n",
      "20\n",
      "30\n",
      "0\n",
      "0\n",
      "0\n"
     ]
    },
    {
     "data": {
      "text/plain": [
       "0"
      ]
     },
     "execution_count": 14,
     "metadata": {},
     "output_type": "execute_result"
    }
   ],
   "source": [
    "# Write your first_three_multiples function here\n",
    "def first_three_multiples(num):\n",
    "    print(1 * num)\n",
    "    print(2 * num)\n",
    "    print(3 * num)\n",
    "    return 3 * num\n",
    "\n",
    "# Uncomment these function calls to test your first_three_multiples function:\n",
    "first_three_multiples(10)\n",
    "# should print 10, 20, 30, and return 30\n",
    "first_three_multiples(0)\n",
    "# should print 0, 0, 0, and return 0"
   ]
  },
  {
   "attachments": {},
   "cell_type": "markdown",
   "metadata": {},
   "source": [
    "# Tip\n",
    "\n",
    "Let’s say we are going to a restaurant and we decide to leave a tip. We can create a function to easily calculate the amount to tip based on the total cost of the food and a percentage. This function will accept both of those values as inputs and return the amount of money to tip. In order to do this, we will need a few steps:\n",
    "\n",
    "    Define the function to accept the total cost of the food called total and the percentage to tip as percentage\n",
    "    Calculate the tip amount by multiplying the total and percentage and dividing by 100\n",
    "    Return the tip amount\n"
   ]
  },
  {
   "cell_type": "code",
   "execution_count": 15,
   "metadata": {},
   "outputs": [
    {
     "name": "stdout",
     "output_type": "stream",
     "text": [
      "2.5\n",
      "0.0\n"
     ]
    }
   ],
   "source": [
    "# Write your tip function here:\n",
    "def tip(cost, percent):\n",
    "    percent_amount = percent / 100\n",
    "    amount = cost * percent_amount\n",
    "    return amount\n",
    " \n",
    "# Uncomment these function calls to test your tip function:\n",
    "print(tip(10, 25))\n",
    "# should print 2.5\n",
    "print(tip(0, 100))\n",
    "# should print 0.0"
   ]
  },
  {
   "attachments": {},
   "cell_type": "markdown",
   "metadata": {},
   "source": [
    "# Bond, James Bond\n",
    "\n",
    "It’s time to re-create a famous movie scene through code. Our function is going to concatenate strings together in order to replace James Bond’s name with whatever name we want. The input to our function will be two strings, one for a first name and another for a last name. The function will return a string consisting of the famous phrase but replaced with our inputs. To accomplish this, we need to:\n",
    "\n",
    "    Define the function to accept two parameters, first_name and last_name\n",
    "    Concatenate the string ', ' on to the last_name\n",
    "    Concatenate the first_name on to the result of the previous step\n",
    "    Concatenate a space on to the result\n",
    "    Concatenate the last_name again to the result\n",
    "    Return the final string\n"
   ]
  },
  {
   "cell_type": "code",
   "execution_count": 16,
   "metadata": {},
   "outputs": [
    {
     "name": "stdout",
     "output_type": "stream",
     "text": [
      "Bond, James Bond\n",
      "Angelou, Maya Angelou\n"
     ]
    }
   ],
   "source": [
    "# Write your introduction function here:\n",
    "def introduction(first_name, last_name):\n",
    "    last_name_final = last_name + ', ' \n",
    "    name_final = last_name_final + first_name + ' ' + last_name\n",
    "    return name_final\n",
    "\n",
    "# Uncomment these function calls to test your introduction function:\n",
    "print(introduction(\"James\", \"Bond\"))\n",
    "# should print Bond, James Bond\n",
    "print(introduction(\"Maya\", \"Angelou\"))\n",
    "# should print Angelou, Maya Angelou"
   ]
  },
  {
   "attachments": {},
   "cell_type": "markdown",
   "metadata": {},
   "source": [
    "# Dog Years\n",
    "\n",
    "Let’s create a function which calculates a dog’s age in dog years! This function will accept the name of the dog and the age in human years. It will calculate the age of the dog in dog years and return a string describing the dog’s age. This will require a few steps:\n",
    "\n",
    "    Define the function called dog_years to accept two parameters: name and age\n",
    "    Calculate the age of the dog in dog years\n",
    "    Concatenate the string with the dog’s name and age in dog years\n",
    "    Return the resulting string\n"
   ]
  },
  {
   "cell_type": "code",
   "execution_count": 17,
   "metadata": {},
   "outputs": [
    {
     "name": "stdout",
     "output_type": "stream",
     "text": [
      "Lola, you are 112 years old in dog years\n",
      "Baby, you are 0 years old in dog years\n"
     ]
    }
   ],
   "source": [
    "# Write your dog_years function here:\n",
    "def dog_years(name, age):\n",
    "    dog_years = age * 7\n",
    "    string_return = f\"{name}, you are {dog_years} years old in dog years\"\n",
    "    return string_return\n",
    "\n",
    "# Uncomment these function calls to test your dog_years function:\n",
    "print(dog_years(\"Lola\", 16))\n",
    "# should print \"Lola, you are 112 years old in dog years\"\n",
    "print(dog_years(\"Baby\", 0))\n",
    "# should print \"Baby, you are 0 years old in dog years\""
   ]
  },
  {
   "attachments": {},
   "cell_type": "markdown",
   "metadata": {},
   "source": [
    "# All Operations\n",
    "\n",
    "For the final code challenge, we are going to perform multiple mathematical operations on multiple inputs to the function. We will begin with adding the first two inputs, then we will subtract the third and fourth inputs. After that, we will multiply the first result and the second result. In the end, we will return the remainder of the previous result divided by the first input. We will also print each of the steps. The steps needed to complete this are:\n",
    "\n",
    "    Define the function to accept four inputs: a, b, c, and d\n",
    "    Print and store the result of a + b\n",
    "    Print and store the result of c - d\n",
    "    Print and store the first result times the second result\n",
    "    Return the previous result modulo a\n"
   ]
  },
  {
   "cell_type": "code",
   "execution_count": 18,
   "metadata": {},
   "outputs": [
    {
     "name": "stdout",
     "output_type": "stream",
     "text": [
      "3\n",
      "-1\n",
      "-3\n",
      "0\n",
      "0\n",
      "2\n",
      "0\n",
      "0\n",
      "0\n",
      "0\n"
     ]
    }
   ],
   "source": [
    "# Write your lots_of_math function here:\n",
    "def lots_of_math(a, b, c, d):\n",
    "    one = a + b\n",
    "    print(one)\n",
    "    two = c - d\n",
    "    print(two)\n",
    "    result = one * two\n",
    "    print(result)\n",
    "    final_result = result % a\n",
    "    print(final_result)\n",
    "    return final_result\n",
    "\n",
    "# Uncomment these function calls to test your lots_of_math function:\n",
    "print(lots_of_math(1, 2, 3, 4))\n",
    "# should print 3, -1, -3, 0\n",
    "print(lots_of_math(1, 1, 1, 1))\n",
    "# should print 2, 0, 0, 0"
   ]
  },
  {
   "attachments": {},
   "cell_type": "markdown",
   "metadata": {},
   "source": [
    "# Count Letters\n",
    "\n",
    "For the first code challenge, we are going to count the number of unique letters in a string. This means that when we are looking at the word, any new letters should be counted and any duplicates should not be counted. There are a few ways to solve this, but we can use the provided alphabet string to ensure that duplicates are not counted. Here is what we need to do:\n",
    "\n",
    "    Define the function to accept one parameter — the word whose letters we are counting\n",
    "    Create a counter to keep track of unique letters\n",
    "    Loop through every letter in our alphabet string. If the current letter was found in our word, increase our count\n",
    "    Return the count after looping through all letters.\n"
   ]
  },
  {
   "cell_type": "code",
   "execution_count": 19,
   "metadata": {},
   "outputs": [
    {
     "name": "stdout",
     "output_type": "stream",
     "text": [
      "4\n",
      "4\n"
     ]
    }
   ],
   "source": [
    "letters = \"ABCDEFGHIJKLMNOPQRSTUVWXYZabcdefghijklmnopqrstuvwxyz\"\n",
    "# Write your unique_english_letters function here:\n",
    "def unique_english_letters(word):\n",
    "    count = 0\n",
    "    for letter in letters:\n",
    "        if letter in word:\n",
    "            count += 1\n",
    "    return count\n",
    "\n",
    "# Uncomment these function calls to test your function:\n",
    "print(unique_english_letters(\"mississippi\"))\n",
    "# should print 4\n",
    "print(unique_english_letters(\"Apple\"))\n",
    "# should print 4"
   ]
  },
  {
   "attachments": {},
   "cell_type": "markdown",
   "metadata": {},
   "source": [
    "# Count X\n",
    "\n",
    "Next, we are going to try something a bit different. This time we are going to count the number of occurrences of a certain letter within a string. Our function will accept a parameter for a string and another for the character which we are going to count. For example, providing the word \"mississippi\" and the character 's' would result in an answer of 4. These are the steps we need to take:\n",
    "\n",
    "    Define the function to accept two parameters. word for the input string and x for the single character\n",
    "    Create a counter to keep track of the occurrences\n",
    "    Loop through every letter in the string. If the current letter is equal to the input letter, increase our counter\n",
    "    Return the counter after looping through the entire string.\n"
   ]
  },
  {
   "cell_type": "code",
   "execution_count": 20,
   "metadata": {},
   "outputs": [
    {
     "name": "stdout",
     "output_type": "stream",
     "text": [
      "4\n",
      "1\n"
     ]
    }
   ],
   "source": [
    "# Write your count_char_x function here:\n",
    "def count_char_x(word, single_char):\n",
    "    counter = 0\n",
    "    for letters in word:\n",
    "        if letters == single_char:\n",
    "            counter += 1\n",
    "    return counter\n",
    "\n",
    "# Uncomment these function calls to test your tip function:\n",
    "print(count_char_x(\"mississippi\", \"s\"))\n",
    "# should print 4\n",
    "print(count_char_x(\"mississippi\", \"m\"))\n",
    "# should print 1"
   ]
  },
  {
   "attachments": {},
   "cell_type": "markdown",
   "metadata": {},
   "source": [
    "# Count Multi X\n",
    "\n",
    "Now let’s change our function to compare against an entire string instead of a single character. This function should accept a string and a substring to compare against. The number of occurrences of the second parameter within the first parameter string are returned. What this means is that we are checking the number of occurrences of the shorter string (second parameter) within the longer string (first parameter). One way to accomplish this is using the split function. Here is how to do that:\n",
    "\n",
    "    Define the function to accept two parameters. word for the input string and x for the second string we are searching for\n",
    "    Split the string into substrings based on the second input parameter\n",
    "    Count the number of instances the substring appeared in the first input string based on the split string\n",
    "    Return the result\n"
   ]
  },
  {
   "cell_type": "code",
   "execution_count": 21,
   "metadata": {},
   "outputs": [
    {
     "name": "stdout",
     "output_type": "stream",
     "text": [
      "3\n",
      "['m', '', 'ippi']\n",
      "2\n",
      "2\n",
      "['a', 'le']\n",
      "1\n"
     ]
    }
   ],
   "source": [
    "# Write your count_multi_char_x function here:\n",
    "def count_multi_char_x(input_string, second_string):\n",
    "    split = input_string.split(second_string)\n",
    "    print(len(split))\n",
    "    print(split)\n",
    "    counts = len(split) - 1\n",
    "    return counts\n",
    "\n",
    "# Uncomment these function calls to test your function:\n",
    "print(count_multi_char_x(\"mississippi\", \"iss\"))\n",
    "# should print 2\n",
    "print(count_multi_char_x(\"apple\", \"pp\"))\n",
    "# should print 1"
   ]
  },
  {
   "attachments": {},
   "cell_type": "markdown",
   "metadata": {},
   "source": [
    "# Substring Between\n",
    "\n",
    "Here is a challenging problem. We need a function that is able to extract a portion of a string between two characters. The function will take three parameters where the first parameter is the string we are going to extract the substring from, the second input is the starting character of our substring and the third character is the ending character of our substring. Here are the steps we can use:\n",
    "\n",
    "    Define the function to accept three parameters, one string and two characters\n",
    "    find the starting index of our substring using the second input parameter\n",
    "    find the ending index of our substring using the third input parameter\n",
    "    If neither of the indices are -1, return the portion of the first input parameter string between the starting and ending indices (not including the starting and ending index)\n",
    "    If either of the indices are -1, that means the start or end of the substring didn’t exist in our string. Return the original string in this case.\n"
   ]
  },
  {
   "cell_type": "code",
   "execution_count": 22,
   "metadata": {},
   "outputs": [
    {
     "name": "stdout",
     "output_type": "stream",
     "text": [
      "pl\n",
      "apple\n"
     ]
    }
   ],
   "source": [
    "# Write your substring_between_letters function here:\n",
    "def substring_between_letters(input_string, char_one, char_two):\n",
    "    starting_index = input_string.find(char_one)\n",
    "    ending_index = input_string.find(char_two)\n",
    "\n",
    "    if starting_index != -1 and ending_index != -1:\n",
    "        return input_string[starting_index + 1:ending_index]\n",
    "    if starting_index == -1 or ending_index == -1:\n",
    "        return input_string \n",
    "\n",
    "# Uncomment these function calls to test your function:\n",
    "print(substring_between_letters(\"apple\", \"p\", \"e\"))\n",
    "# shou \"pl\"\n",
    "print(substring_between_letters(\"apple\", \"p\", \"c\"))\n",
    "# should print \"apple\""
   ]
  },
  {
   "attachments": {},
   "cell_type": "markdown",
   "metadata": {},
   "source": [
    "# X Length\n",
    "\n",
    "Let’s use the split method in a different way. We need a new function that is able to accept two inputs: one for a sentence and another for a number. The function returns True if every single word in the sentence has a length greater than or equal to the number provided. These are the steps:\n",
    "<ol>\n",
    "    <li>Define the function to accept two parameters, one string, and one number</li>\n",
    "    <li>Split up the sentence into an array of words</li>\n",
    "    <li>Loop through the words. If the length of any of the words is less than the provided number return False</li>\n",
    "    <li>If we made it through the loop without returning False then return True</li>\n",
    "</ol>"
   ]
  },
  {
   "cell_type": "code",
   "execution_count": 23,
   "metadata": {},
   "outputs": [
    {
     "name": "stdout",
     "output_type": "stream",
     "text": [
      "False\n",
      "True\n"
     ]
    }
   ],
   "source": [
    "# Write your x_length_words function here:\n",
    "def x_length_words(one, two):\n",
    "    word_list = one.split()\n",
    "    for words in word_list:\n",
    "        if len(words) < two:\n",
    "            return False\n",
    "        return True\n",
    "\n",
    "# Uncomment these function calls to test your tip function:\n",
    "print(x_length_words(\"i like apples\", 2))\n",
    "# should print False\n",
    "print(x_length_words(\"he likes apples\", 2))\n",
    "# should print True"
   ]
  },
  {
   "attachments": {},
   "cell_type": "markdown",
   "metadata": {},
   "source": [
    "# Check Name\n",
    "\n",
    "You are creating an app that allows users to interact and share their coding project ideas online. The first step is to provide your name in the application and a greeting for other people to see which contains your name. Let’s create a function that is able to check if a user’s name is located within their greeting. We need a function that accepts two parameters, a string for our sentence and a string for a name. The function should return True if the name exists within the string (ignoring any differences in capitalization). Here is what we need to do:\n",
    "\n",
    "    Define the function to accept two parameters, one string for the sentence and one string for the name\n",
    "    Convert all of the strings to the same case so we don’t have to worry about differences in capitalization\n",
    "    Check if the name is within the sentence. If so, then return True. Otherwise, return False\n"
   ]
  },
  {
   "cell_type": "code",
   "execution_count": 24,
   "metadata": {},
   "outputs": [
    {
     "name": "stdout",
     "output_type": "stream",
     "text": [
      "True\n",
      "True\n",
      "False\n"
     ]
    }
   ],
   "source": [
    "# Write your check_for_name function here:\n",
    "def check_for_name(sentence, name):\n",
    "    sentence_lower = sentence.lower()\n",
    "    name_lower = name.lower()\n",
    "    if name_lower in sentence_lower:\n",
    "        return True\n",
    "    else:\n",
    "        return False\n",
    "\n",
    "# Uncomment these function calls to test your  function:\n",
    "print(check_for_name(\"My name is Jamie\", \"Jamie\"))\n",
    "# should print True\n",
    "print(check_for_name(\"My name is jamie\", \"Jamie\"))\n",
    "# should print True\n",
    "print(check_for_name(\"My name is Samantha\", \"Jamie\"))\n",
    "# should print False"
   ]
  },
  {
   "attachments": {},
   "cell_type": "markdown",
   "metadata": {},
   "source": [
    "# Every Other Letter\n",
    "\n",
    "For this next challenge, we are going to create a function that extracts every other letter from a string and returns the resulting string. There are a few different ways you can solve this problem. Here are the steps needed for one of the ways:\n",
    "\n",
    "    Define the function to accept one parameter for the string\n",
    "    Create a new empty string to hold every other letter from the input string\n",
    "    Loop through the input string while incrementing by two every time\n",
    "    Inside the loop, append the character at the current location to the new string we initialized earlier\n",
    "    Return the new string\n"
   ]
  },
  {
   "cell_type": "code",
   "execution_count": 25,
   "metadata": {},
   "outputs": [
    {
     "name": "stdout",
     "output_type": "stream",
     "text": [
      "Cdcdm\n",
      "Hlowrd\n",
      "\n"
     ]
    }
   ],
   "source": [
    "# Write your every_other_letter function here:\n",
    "def every_other_letter(input_string):\n",
    "    new_str = ''\n",
    "    for i in range(0, len(input_string), 2):\n",
    "        new_str += input_string[i]\n",
    "    return new_str\n",
    "\n",
    "# Uncomment these function calls to test your function:\n",
    "print(every_other_letter(\"Codecademy\"))\n",
    "# should print Cdcdm\n",
    "print(every_other_letter(\"Hello world!\"))\n",
    "# should print Hlowrd\n",
    "print(every_other_letter(\"\"))\n",
    "# should print "
   ]
  },
  {
   "attachments": {},
   "cell_type": "markdown",
   "metadata": {},
   "source": [
    "# Reverse\n",
    "\n",
    "This one is similar to the last challenge. Instead of selecting every other letter, we want to reverse the entire string. This can be performed in a similar manner, but we will need to modify the range we are using. Here is what we need to do:\n",
    "\n",
    "    Define the function to accept one parameter for the string\n",
    "    Create a new empty string to hold the reversed string\n",
    "    Loop through the input string by starting at the end, and working towards the beginning\n",
    "    Inside the loop, append the character at the current location to the new string we initialized earlier\n",
    "    Return the result\n"
   ]
  },
  {
   "cell_type": "code",
   "execution_count": 26,
   "metadata": {},
   "outputs": [
    {
     "name": "stdout",
     "output_type": "stream",
     "text": [
      "ymedacedoC\n",
      "!dlrow olleH\n",
      "\n"
     ]
    }
   ],
   "source": [
    "# Write your reverse_string function here:\n",
    "def reverse_string(string):\n",
    "    empty_string = ''\n",
    "    for i in range(len(string)-1,-1,-1):\n",
    "        empty_string += string[i]\n",
    "    return empty_string\n",
    "\n",
    "# Uncomment these function calls to test your  function:\n",
    "print(reverse_string(\"Codecademy\"))\n",
    "# should print ymedacedoC\n",
    "print(reverse_string(\"Hello world!\"))\n",
    "# should print !dlrow olleH\n",
    "print(reverse_string(\"\"))\n",
    "# should print"
   ]
  },
  {
   "attachments": {},
   "cell_type": "markdown",
   "metadata": {},
   "source": [
    "# Make Spoonerism\n",
    "\n",
    "A Spoonerism is an error in speech when the first syllables of two words are switched. For example, a Spoonerism is made when someone says “Belly Jeans” instead of “Jelly Beans”. We are going to make a function that is similar, but instead of using the first syllable, we are going to switch the first character of two words. Here is what we need to do:\n",
    "\n",
    "    Define the function to accept two parameters for our two words\n",
    "    Get the first character of the first word and the first character of the second word\n",
    "    Get the remaining characters of the first word and the remaining characters of the second word.\n",
    "    Append the first character of the second word to the remaining character of the first word\n",
    "    Append a space character\n",
    "    Append the first character of the first word to the remaining characters of the second word.\n",
    "    Return the result\n"
   ]
  },
  {
   "cell_type": "code",
   "execution_count": 27,
   "metadata": {},
   "outputs": [
    {
     "name": "stdout",
     "output_type": "stream",
     "text": [
      "Lodecademy Cearn\n",
      "wello Horld!\n",
      "b a\n"
     ]
    }
   ],
   "source": [
    "# Write your make_spoonerism function here:\n",
    "def make_spoonerism(word_one, word_two):\n",
    "    return word_two[0] + word_one[1:] + ' ' + word_one[0] + word_two[1:]\n",
    "\n",
    "# Uncomment these function calls to test your function:\n",
    "print(make_spoonerism(\"Codecademy\", \"Learn\"))\n",
    "# should print Lodecademy Cearn\n",
    "print(make_spoonerism(\"Hello\", \"world!\"))\n",
    "# should print wello Horld!\n",
    "print(make_spoonerism(\"a\", \"b\"))\n",
    "# should print b a"
   ]
  },
  {
   "attachments": {},
   "cell_type": "markdown",
   "metadata": {},
   "source": [
    "# Add Exclamation\n",
    "\n",
    "Let’s say we are writing a program that displays a large message on a blimp and we need to fill in any missing space if a short phrase is provided. Our function will accept a string and if the size is less than 20, it will fill in the remaining space with exclamation marks until the size reaches 20. If the provided string already has a length greater than 20, then we will simply return the original string. Here are the steps:\n",
    "\n",
    "    Define the function to accept one parameter for our string\n",
    "    Loop while the length of our input string is less than 20\n",
    "    Inside the loop, append an exclamation mark\n",
    "    Once done, return the result\n"
   ]
  },
  {
   "cell_type": "code",
   "execution_count": 28,
   "metadata": {},
   "outputs": [
    {
     "name": "stdout",
     "output_type": "stream",
     "text": [
      "Codecademy!!!!!!!!!!\n",
      "Codecademy is the best place to learn\n"
     ]
    }
   ],
   "source": [
    "# Write your add_exclamation function here:\n",
    "def add_exclamation(string):\n",
    "    while len(string) < 20:\n",
    "        string += '!'\n",
    "    return string\n",
    "\n",
    "# Uncomment these function calls to test your function:\n",
    "print(add_exclamation(\"Codecademy\"))\n",
    "# should print Codecademy!!!!!!!!!!\n",
    "print(add_exclamation(\"Codecademy is the best place to learn\"))\n",
    "# should print Codecademy is the best place to learn"
   ]
  },
  {
   "attachments": {},
   "cell_type": "markdown",
   "metadata": {},
   "source": [
    "# Sum Values\n",
    "\n",
    "For the first code challenge, we are going to look at only the values in a dictionary. This function should sum up all of the values from the key-value pairs in the dictionary. Here are the steps we need:\n",
    "\n",
    "    Define the function to accept one parameter for our dictionary\n",
    "    Create a variable to keep track of our sum\n",
    "    Loop through every value in the dictionary\n",
    "    Inside the loop, add each value to the sum\n",
    "    Return the sum\n"
   ]
  },
  {
   "cell_type": "code",
   "execution_count": 29,
   "metadata": {},
   "outputs": [
    {
     "name": "stdout",
     "output_type": "stream",
     "text": [
      "11\n",
      "6\n"
     ]
    }
   ],
   "source": [
    "# Write your sum_values function here:\n",
    "def sum_values(dict):\n",
    "    sum = 0\n",
    "    for values in dict.values():\n",
    "        sum += values\n",
    "    return sum\n",
    "\n",
    "# Uncomment these function calls to test your sum_values function:\n",
    "print(sum_values({\"milk\":5, \"eggs\":3, \"flour\": 3}))\n",
    "# should print 10\n",
    "print(sum_values({10:1, 100:2, 1000:3}))\n",
    "# should print 6"
   ]
  },
  {
   "attachments": {},
   "cell_type": "markdown",
   "metadata": {},
   "source": [
    "# Even Keys\n",
    "\n",
    "Next, we are going to do something similar, but we are going to use the keys in order to retrieve the values. Additionally, we are going to only look at every even key within the dictionary. Here are the steps:\n",
    "\n",
    "    Define the function to accept one parameter for our dictionary\n",
    "    Create a variable to keep track of our sum\n",
    "    Loop through every key in the dictionary\n",
    "    Inside the loop, if the key is even, add the value from the even key\n",
    "    After the loop, return the sum\n"
   ]
  },
  {
   "cell_type": "code",
   "execution_count": 30,
   "metadata": {},
   "outputs": [
    {
     "name": "stdout",
     "output_type": "stream",
     "text": [
      "2\n",
      "6\n"
     ]
    }
   ],
   "source": [
    "# Write your sum_even_keys function here:\n",
    "def sum_even_keys(dict):\n",
    "    sum = 0\n",
    "    for keys in dict.keys():\n",
    "        if keys % 2 == 0:\n",
    "            sum += dict[keys]\n",
    "    return sum\n",
    "\n",
    "# Uncomment these function calls to test your  function:\n",
    "print(sum_even_keys({1:5, 2:2, 3:3}))\n",
    "# should print 2\n",
    "print(sum_even_keys({10:1, 100:2, 1000:3}))\n",
    "# should print 6"
   ]
  },
  {
   "attachments": {},
   "cell_type": "markdown",
   "metadata": {},
   "source": [
    "# Add Ten\n",
    "\n",
    "Let’s loop through the keys again, but this time let’s modify the values within the dictionary. Our function should add 10 to every value in the dictionary and return the modified dictionary. Here is what we need to do:\n",
    "\n",
    "    Define the function to accept one parameter for our dictionary\n",
    "    Loop through every key in the dictionary\n",
    "    Retrieve the value using the key and add 10 to it. Make sure to re-save the new value to the original key.\n",
    "    After the loop, return the modified dictionary\n"
   ]
  },
  {
   "cell_type": "code",
   "execution_count": 31,
   "metadata": {},
   "outputs": [
    {
     "name": "stdout",
     "output_type": "stream",
     "text": [
      "{1: 15, 2: 12, 3: 13}\n",
      "{10: 11, 100: 12, 1000: 13}\n"
     ]
    }
   ],
   "source": [
    "# Write your add_ten function here:\n",
    "def add_ten(dict):\n",
    "    for keys in dict.keys():\n",
    "        dict[keys] += 10\n",
    "    return dict\n",
    "\n",
    "# Uncomment these function calls to test your  function:\n",
    "print(add_ten({1:5, 2:2, 3:3}))\n",
    "# should print {1:15, 2:12, 3:13}\n",
    "print(add_ten({10:1, 100:2, 1000:3}))\n",
    "# should print {10:11, 100:12, 1000:13}"
   ]
  },
  {
   "attachments": {},
   "cell_type": "markdown",
   "metadata": {},
   "source": [
    "# Values That Are Keys\n",
    "\n",
    "We are making a program that will create a family tree. Using a dictionary, we want to return a list of all the children who are also parents of other children. Using dictionaries we can consider those people to be values which are also keys in our dictionary of family data. Here is what we need to do:\n",
    "\n",
    "    Define the function to accept one parameter for our dictionary\n",
    "    Create an empty list to hold the values we find\n",
    "    Loop through every value in the dictionary\n",
    "    Inside the loop, test if the current value is a key in the dictionary. If it is then append it to the list of values we found\n",
    "    After the loop, return the list of values which are also keys\n"
   ]
  },
  {
   "cell_type": "code",
   "execution_count": 32,
   "metadata": {},
   "outputs": [
    {
     "name": "stdout",
     "output_type": "stream",
     "text": [
      "[1, 4]\n",
      "['a']\n"
     ]
    }
   ],
   "source": [
    "# Write your values_that_are_keys function here:\n",
    "def values_that_are_keys(dict):\n",
    "    empty_list = []\n",
    "    for values in dict.values():\n",
    "        if dict.get(values) != None:\n",
    "            empty_list.append(values)\n",
    "    return empty_list\n",
    "\n",
    "# Uncomment these function calls to test your  function:\n",
    "print(values_that_are_keys({1:100, 2:1, 3:4, 4:10}))\n",
    "# should print [1, 4]\n",
    "print(values_that_are_keys({\"a\":\"apple\", \"b\":\"a\", \"c\":100}))\n",
    "# should print [\"a\"]"
   ]
  },
  {
   "attachments": {},
   "cell_type": "markdown",
   "metadata": {},
   "source": [
    "# Largest Value\n",
    "\n",
    "For the last challenge, we are going to create a function that is able to find the maximum value in the dictionary and return the associated key. This is a twist on the max algorithm since it is using a dictionary rather than a list. These are the steps:\n",
    "\n",
    "    Define the function to accept one parameter for our dictionary\n",
    "    Initialize the starting key to a very low number\n",
    "    Initialize the starting value to a very low number\n",
    "    Iterate through the dictionary’s key/value pairs.\n",
    "    Inside the loop, if the current value is larger than the current largest value, replace the largest key and largest value with the current ones you are looking at\n",
    "    Once you are done iterating through all key/value pairs, return the key which has the largest value\n"
   ]
  },
  {
   "cell_type": "code",
   "execution_count": 33,
   "metadata": {},
   "outputs": [
    {
     "name": "stdout",
     "output_type": "stream",
     "text": [
      "1\n",
      "c\n"
     ]
    }
   ],
   "source": [
    "# Write your max_key function here:\n",
    "def max_key(dict):\n",
    "    largest_key = float('-inf')\n",
    "    largest_value = float('-inf')\n",
    "    for keys, values in dict.items():\n",
    "        if values > largest_value:\n",
    "            largest_key = keys\n",
    "            largest_value = values\n",
    "    return largest_key\n",
    "\n",
    "# Uncomment these function calls to test your  function:\n",
    "print(max_key({1:100, 2:1, 3:4, 4:10}))\n",
    "# should print 1\n",
    "print(max_key({\"a\":100, \"b\":10, \"c\":1000}))\n",
    "# should print \"c\""
   ]
  },
  {
   "attachments": {},
   "cell_type": "markdown",
   "metadata": {},
   "source": [
    "# Word Length Dict\n",
    "\n",
    "Let’s start by writing a function that creates a new dictionary based on a list of strings. The keys of our dictionary will be every string in our list of strings, while the values will be the length of each of the words in the string list. Here are the steps:\n",
    "\n",
    "    Define the function to accept one parameter for our list of strings\n",
    "    Create a new empty dictionary\n",
    "    Loop through every string in the list of strings\n",
    "    Inside the loop, add the string as a key and the length of the string as the value to the dictionary\n",
    "    After the loop, return the new dictionary\n"
   ]
  },
  {
   "cell_type": "code",
   "execution_count": 34,
   "metadata": {},
   "outputs": [
    {
     "name": "stdout",
     "output_type": "stream",
     "text": [
      "{'apple': 5, 'dog': 3, 'cat': 3}\n",
      "{'a': 1, '': 0}\n"
     ]
    }
   ],
   "source": [
    "# Write your word_length_dictionary function here:\n",
    "def word_length_dictionary(string_list):\n",
    "    dict = {}\n",
    "    for strings in string_list:\n",
    "        dict[strings] = len(strings)\n",
    "    return dict\n",
    "\n",
    "# Uncomment these function calls to test your  function:\n",
    "print(word_length_dictionary([\"apple\", \"dog\", \"cat\"]))\n",
    "# should print {\"apple\":5, \"dog\": 3, \"cat\":3}\n",
    "print(word_length_dictionary([\"a\", \"\"]))\n",
    "# should print {\"a\": 1, \"\": 0}"
   ]
  },
  {
   "attachments": {},
   "cell_type": "markdown",
   "metadata": {},
   "source": [
    "# Frequency Count\n",
    "\n",
    "This next function is similar, but instead of counting the length of each string in the list of strings, we will be counting the frequency of each string. This function will also accept a list of strings as input and return a new dictionary. Here is what we need to do:\n",
    "\n",
    "    Define the function to accept one parameter for our list of strings\n",
    "    Create a new empty dictionary\n",
    "    Loop through every string in the list of strings\n",
    "    Inside the loop, if the string is not already in our dictionary, store the string as a key with a value of 0 in our dictionary. Then, increment the value by 1.\n",
    "    After the loop, return the new dictionary\n"
   ]
  },
  {
   "cell_type": "code",
   "execution_count": 35,
   "metadata": {},
   "outputs": [
    {
     "name": "stdout",
     "output_type": "stream",
     "text": [
      "{'apple': 2, 'cat': 1, 1: 1}\n",
      "{0: 5}\n"
     ]
    }
   ],
   "source": [
    "# Write your frequency_dictionary function here:\n",
    "def frequency_dictionary(string_list):\n",
    "    dict = {}\n",
    "    for strings in string_list:\n",
    "        if dict.get(strings) == None:\n",
    "            dict[strings] = 0\n",
    "        dict[strings] += 1\n",
    "    return dict\n",
    "\n",
    "# Uncomment these function calls to test your  function:\n",
    "print(frequency_dictionary([\"apple\", \"apple\", \"cat\", 1]))\n",
    "# should print {\"apple\":2, \"cat\":1, 1:1}\n",
    "print(frequency_dictionary([0,0,0,0,0]))\n",
    "# should print {0:5}"
   ]
  },
  {
   "attachments": {},
   "cell_type": "markdown",
   "metadata": {},
   "source": [
    "# Unique Values\n",
    "\n",
    "Now let’s try reading a dictionary as input and finding how many values are unique. The function should return a number which is the count of all values from the dictionary without including duplicates. These are the steps:\n",
    "\n",
    "    Define the function to accept one parameter for our dictionary\n",
    "    Create a new empty list\n",
    "    Loop through every value in our dictionary\n",
    "    Inside the loop, if the value is not already in our list, append the value to our list\n",
    "    After the loop, return the length of our list\n"
   ]
  },
  {
   "cell_type": "code",
   "execution_count": 36,
   "metadata": {},
   "outputs": [
    {
     "name": "stdout",
     "output_type": "stream",
     "text": [
      "2\n",
      "1\n"
     ]
    }
   ],
   "source": [
    "# Write your unique_values function here:\n",
    "def unique_values(dict):\n",
    "    new_list = []\n",
    "    for values in dict.values():\n",
    "        if values not in new_list:\n",
    "            new_list.append(values)\n",
    "    return len(new_list)\n",
    "\n",
    "# Uncomment these function calls to test your  function:\n",
    "print(unique_values({0:3, 1:1, 4:1, 5:3}))\n",
    "# should print 2\n",
    "print(unique_values({0:3, 1:3, 4:3, 5:3}))\n",
    "# should print 1"
   ]
  },
  {
   "attachments": {},
   "cell_type": "markdown",
   "metadata": {},
   "source": [
    "# Count First Letter\n",
    "\n",
    "This function accepts a dictionary where the keys are last names and the values are lists of first names of people who have that last name. We need to calculate the number of people who have the same first letter in their last name. Here are the steps we need:\n",
    "\n",
    "    Define the function to accept one parameter for our dictionary\n",
    "    Create a new empty dictionary called letters\n",
    "    Loop through every key in our names dictionary\n",
    "    Inside the loop, get the first letter of the last name we are looking at. If the first letter is not in our letter dictionary, add it as a key with a value of 0. Then, increment that key by the number of people that have that last name\n",
    "    After the loop, return the letters dictionary\n"
   ]
  },
  {
   "cell_type": "code",
   "execution_count": 37,
   "metadata": {},
   "outputs": [
    {
     "name": "stdout",
     "output_type": "stream",
     "text": [
      "{'S': 4, 'L': 3}\n",
      "{'S': 7}\n"
     ]
    }
   ],
   "source": [
    "# Write your count_first_letter function here:\n",
    "def count_first_letter(dict):\n",
    "    letters = {}\n",
    "    for keys in dict.keys():\n",
    "        first_letter = keys[0]\n",
    "        if first_letter not in letters:\n",
    "            letters[first_letter] = 0\n",
    "        letters[first_letter] += len(dict[keys])\n",
    "    return letters\n",
    "\n",
    "# Uncomment these function calls to test your  function:\n",
    "print(count_first_letter({\"Stark\": [\"Ned\", \"Robb\", \"Sansa\"], \"Snow\" : [\"Jon\"], \"Lannister\": [\"Jaime\", \"Cersei\", \"Tywin\"]}))\n",
    "# should print {\"S\": 4, \"L\": 3}\n",
    "print(count_first_letter({\"Stark\": [\"Ned\", \"Robb\", \"Sansa\"], \"Snow\" : [\"Jon\"], \"Sannister\": [\"Jaime\", \"Cersei\", \"Tywin\"]}))\n",
    "# should print {\"S\": 7}"
   ]
  },
  {
   "attachments": {},
   "cell_type": "markdown",
   "metadata": {},
   "source": [
    "# Setting Up Our Robot\n",
    "\n",
    "Let’s begin by creating the class for our robot. We will begin by setting up the instance variables to keep track of important data related to the robot. Here are the steps we need to do:\n",
    "\n",
    "    Create a new class called DriveBot\n",
    "    Set up a basic constructor (no parameters needed)\n",
    "    Initialize three instance variables within our constructor which all default to 0: motor_speed, direction, and sensor_range\n"
   ]
  },
  {
   "cell_type": "code",
   "execution_count": 38,
   "metadata": {},
   "outputs": [],
   "source": [
    "class DriveBot:\n",
    "    def __init__(self):\n",
    "      self.motor_speed = 0\n",
    "      self.direction = 0\n",
    "      self.sensor_range = 0\n",
    "\n",
    "robot_1 = DriveBot()\n",
    "robot_1.motor_speed = 5\n",
    "robot_1.direction = 90\n",
    "robot_1.sensor_range = 10"
   ]
  },
  {
   "attachments": {},
   "cell_type": "markdown",
   "metadata": {},
   "source": [
    "# Adding Robot Logic\n",
    "\n",
    "Now we want to add some logic to our robot. It would be very useful to be able to control our robot, so we are going to create a control_bot method which changes the speed and direction. We are also going to create a method called adjust_sensor. This method is used to change the range of our robot’s sensors which are used to detect obstacles. Here are the steps:\n",
    "\n",
    "    Define a function within the DriveBot class which accepts two additional parameters: one for a new speed and one for a new direction\n",
    "    Replace the instance variables for speed and direction with the input parameters\n",
    "    Define another function called adjust_sensor which accepts one additional parameter\n",
    "    Replace the instance variable sensor_range with the input parameter\n"
   ]
  },
  {
   "cell_type": "code",
   "execution_count": 39,
   "metadata": {},
   "outputs": [
    {
     "name": "stdout",
     "output_type": "stream",
     "text": [
      "10\n",
      "180\n",
      "20\n"
     ]
    }
   ],
   "source": [
    "# Replace the instance variable sensor_range with the input parameter\n",
    "\n",
    "class DriveBot:\n",
    "    def __init__(self):\n",
    "        self.motor_speed = 0\n",
    "        self.direction = 0\n",
    "        self.sensor_range = 0\n",
    "    \n",
    "    # Add the methods here!\n",
    "    # Define a function within the DriveBot class which accepts two additional parameters: one for a new speed and one for a new direction\n",
    "    def control_bot(self, new_speed, new_direction):\n",
    "        # Replace the instance variables for speed and direction with the input parameters\n",
    "        self.motor_speed = new_speed\n",
    "        self.direction = new_direction\n",
    "\n",
    "    # Define another function called adjust_sensor which accepts one additional parameter\n",
    "    def adjust_sensor(self, new_sensor_range):\n",
    "        self.sensor_range = new_sensor_range\n",
    "\n",
    "robot_1 = DriveBot()\n",
    "# Use the methods here!\n",
    "robot_1.control_bot(10, 180)\n",
    "robot_1.adjust_sensor(20)\n",
    "\n",
    "print(robot_1.motor_speed)\n",
    "print(robot_1.direction)\n",
    "print(robot_1.sensor_range)"
   ]
  },
  {
   "attachments": {},
   "cell_type": "markdown",
   "metadata": {},
   "source": [
    "# Enhanced Constructor\n",
    "\n",
    "It can be tedious manually setting the values for each instance variable after we have created an object from the DriveBot class. We can enhance our constructor to automatically assign the values we provide to the instance variables. Instead of taking zero parameters, we are going to make the constructor take three parameters. Here is what we need to do:\n",
    "\n",
    "    Modify the constructor to take three parameters (in addition to self): one for motor_speed, one for direction, and one for sensor_range\n",
    "    For the first parameter, make the default value 0\n",
    "    For the second parameter, make the default value 180\n",
    "    For the third parameter, make the default value 10\n",
    "    Within the constructor, replace the instance variables with the variables from the input parameters\n"
   ]
  },
  {
   "cell_type": "code",
   "execution_count": 40,
   "metadata": {},
   "outputs": [
    {
     "name": "stdout",
     "output_type": "stream",
     "text": [
      "35\n",
      "75\n",
      "25\n"
     ]
    }
   ],
   "source": [
    "class DriveBot:\n",
    "    # Update this constructor!\n",
    "    #Modify the constructor to take three parameters (in addition to self): one for motor_speed, one for direction, and one for sensor_range\n",
    "    #For the first parameter, make the default value 0\n",
    "    #For the second parameter, make the default value 180\n",
    "    #For the third parameter, make the default value 10   def __init__(self, motor_speed = 0, direction = 180, sensor_range = 10):\n",
    "    def __init__(self, motor_speed = 0, direction = 180, sensor_range = 10):\n",
    "        #Within the constructor, replace the instance variables with the variables from the input parameters\n",
    "        self.motor_speed = motor_speed\n",
    "        self.direction = direction\n",
    "        self.sensor_range = sensor_range\n",
    "    \n",
    "    def control_bot(self, new_speed, new_direction):\n",
    "        self.motor_speed = new_speed\n",
    "        self.direction = new_direction\n",
    "\n",
    "    def adjust_sensor(self, new_sensor_range):\n",
    "        self.sensor_range = new_sensor_range\n",
    "\n",
    "robot_1 = DriveBot()\n",
    "robot_1.motor_speed = 5\n",
    "robot_1.direction = 90\n",
    "robot_1.sensor_range = 10\n",
    "\n",
    "# Create robot_2 here!\n",
    "robot_2 = DriveBot(35, 75, 25)\n",
    "\n",
    "print(robot_2.motor_speed)\n",
    "print(robot_2.direction)\n",
    "print(robot_2.sensor_range)"
   ]
  },
  {
   "attachments": {},
   "cell_type": "markdown",
   "metadata": {},
   "source": [
    "# Controlling Them All\n",
    "\n",
    "We want to add a new feature that allows the user to control multiple robots at once. The robots should be able to all have the same latitude and longitude GPS destination coordinates as well as a setting for disabling them all called all_disabled. We can accomplish this using class variables. Here is how we can do it:\n",
    "\n",
    "    Create a new class variable within the DriveBot class called all_disabled and set it equal to False\n",
    "    Create a new class variable within the DriveBot class called latitude and set it equal to -999999\n",
    "    Create a new class variable within the DriveBot class called longitude and set it equal to -999999\n",
    "    Outside of the class, test the class variables by setting the longitude of all robots to 50.0, the latitude to -50.0 and all_disabled to True\n"
   ]
  },
  {
   "cell_type": "code",
   "execution_count": 41,
   "metadata": {},
   "outputs": [
    {
     "name": "stdout",
     "output_type": "stream",
     "text": [
      "-50\n",
      "50\n",
      "True\n"
     ]
    }
   ],
   "source": [
    "class DriveBot:\n",
    "  # Create the class variables!\n",
    "    #Create a new class variable within the DriveBot class called all_disabled and set it equal to False\n",
    "    all_disabled = True\n",
    "    #Create a new class variable within the DriveBot class called latitude and set it equal to -999999\n",
    "    latitude = -50\n",
    "    #Create a new class variable within the DriveBot class called longitude and set it equal to -999999\n",
    "    longitude = 50\n",
    "\n",
    "    def __init__(self, motor_speed = 0, direction = 180, sensor_range = 10):\n",
    "        self.motor_speed = motor_speed\n",
    "        self.direction = direction\n",
    "        self.sensor_range = sensor_range\n",
    "    \n",
    "    def control_bot(self, new_speed, new_direction):\n",
    "        self.motor_speed = new_speed\n",
    "        self.direction = new_direction\n",
    "\n",
    "    def adjust_sensor(self, new_sensor_range):\n",
    "        self.sensor_range = new_sensor_range\n",
    "\n",
    "robot_1 = DriveBot()\n",
    "robot_1.motor_speed = 5\n",
    "robot_1.direction = 90\n",
    "robot_1.sensor_range = 10\n",
    "\n",
    "robot_2 = DriveBot(35, 75, 25)\n",
    "robot_3 = DriveBot(20, 60, 10)\n",
    "\n",
    "# Change the latitude, longitude, and all_disabled values for all three robots using only three lines of code!\n",
    "\n",
    "print(robot_1.latitude)\n",
    "print(robot_2.longitude)\n",
    "print(robot_3.all_disabled)\n",
    "\n",
    "#Outside of the class, test the class variables by setting the longitude of all robots to 50.0, the latitude to -50.0 and all_disabled to True\n"
   ]
  },
  {
   "attachments": {},
   "cell_type": "markdown",
   "metadata": {},
   "source": [
    "# Identifying Robots\n",
    "\n",
    "In order to keep track of the robots we are creating, we want to be able to assign an ID value to each robot when it is created. If we create five robots in a row, we want the IDs of each robot to be 1, 2, 3, 4, and 5 respectively. This can be accomplished by using a class variable counter which increments and is assigned to an instance variable for the ID whenever the constructor is called. Here are the steps:\n",
    "\n",
    "    Create a new class variable in the DriveBot class called robot_count\n",
    "    In the constructor, increment the robot_count by 1\n",
    "    After incrementing the value, assign the value of robot_count to a new instance variable called id.\n"
   ]
  },
  {
   "cell_type": "code",
   "execution_count": 42,
   "metadata": {},
   "outputs": [
    {
     "name": "stdout",
     "output_type": "stream",
     "text": [
      "1\n",
      "2\n",
      "3\n"
     ]
    }
   ],
   "source": [
    "class DriveBot:\n",
    "  # Create a counter to keep track of how many robots were created\n",
    "    all_disabled = False\n",
    "    latitude = -999999\n",
    "    longitude = -999999\n",
    "    robot_count = 0\n",
    "\n",
    "    def __init__(self, motor_speed = 0, direction = 180, sensor_range = 10):\n",
    "        self.motor_speed = motor_speed\n",
    "        self.direction = direction\n",
    "        self.sensor_range = sensor_range\n",
    "        # Assign an `id` to the robot when it is constructed by incrementing the counter and assigning the value to `id`\n",
    "        DriveBot.robot_count += 1\n",
    "        self.id = DriveBot.robot_count\n",
    "    \n",
    "    def control_bot(self, new_speed, new_direction):\n",
    "        self.motor_speed = new_speed\n",
    "        self.direction = new_direction\n",
    "\n",
    "    def adjust_sensor(self, new_sensor_range):\n",
    "        self.sensor_range = new_sensor_range\n",
    "\n",
    "robot_1 = DriveBot()\n",
    "robot_1.motor_speed = 5\n",
    "robot_1.direction = 90\n",
    "robot_1.sensor_range = 10\n",
    "\n",
    "robot_2 = DriveBot(35, 75, 25)\n",
    "robot_3 = DriveBot(20, 60, 10)\n",
    "\n",
    "print(robot_1.id)\n",
    "print(robot_2.id)\n",
    "print(robot_3.id)\n",
    "\n"
   ]
  },
  {
   "attachments": {},
   "cell_type": "markdown",
   "metadata": {},
   "source": [
    "# FizzBuzz\n",
    "\n",
    "Write a fizzbuzz() function that takes in a number, n, and returns a list of the numbers from 1 to n. For multiples of three, use \"Fizz\" instead of the number, and for the multiples of five, use \"Buzz\". For numbers that are multiples of both three and five, use \"FizzBuzz\" (capitalization matters).\n",
    "\n",
    "For example, fizzbuzz(16) should return [1, 2, 'Fizz', 4, 'Buzz', 'Fizz', 7, 8, 'Fizz', 'Buzz', 11, 'Fizz', 13, 14, 'FizzBuzz', 16].\n",
    "\n",
    "This challenge was reported to have been asked at interviews with many top companies, including Google. If you’ve covered the material in Pass the Technical Interview with Python or an equivalent, you should be able to solve this challenge. If you have trouble, try refreshing your knowledge there first.\n"
   ]
  },
  {
   "cell_type": "code",
   "execution_count": 43,
   "metadata": {},
   "outputs": [
    {
     "name": "stdout",
     "output_type": "stream",
     "text": [
      "[1, 2, 'Fizz', 4, 'Buzz', 'Fizz', 7, 8, 'Fizz', 'Buzz', 11, 'Fizz', 13, 14, 'FizzBuzz', 16]\n"
     ]
    }
   ],
   "source": [
    "def fizzbuzz(n):\n",
    "    list = []\n",
    "    for i in range(1, n+1):\n",
    "        if i % 3 == 0 and i % 5 == 0:\n",
    "            list.append(\"FizzBuzz\")\n",
    "        elif i % 3 == 0:\n",
    "            list.append(\"Fizz\")\n",
    "        elif i % 5 == 0:\n",
    "            list.append(\"Buzz\")\n",
    "        else:\n",
    "            list.append(i)\n",
    "    return list\n",
    "\n",
    "print(fizzbuzz(16))"
   ]
  },
  {
   "attachments": {},
   "cell_type": "markdown",
   "metadata": {},
   "source": [
    "# TwoSum\n",
    "\n",
    "Given an array of integers nums and an integer target, return indices of the two numbers such that they add up to target.\n",
    "\n",
    "You may assume that each input would have exactly one solution, and you may not use the same element twice.\n",
    "\n",
    "You can return the answer in any order."
   ]
  },
  {
   "cell_type": "code",
   "execution_count": 44,
   "metadata": {},
   "outputs": [],
   "source": [
    "class Solution:\n",
    "    def twoSum(self, nums, target):\n",
    "        for i in range(len(nums)):\n",
    "            for j in range(i + 1, len(nums)):\n",
    "                if nums[i] + nums[j] == target:\n",
    "                    return [i, j]"
   ]
  },
  {
   "attachments": {},
   "cell_type": "markdown",
   "metadata": {},
   "source": [
    "# Palindrome\n",
    "\n",
    "Given an integer x, return true if x is a\n",
    "palindrome\n",
    ", and false otherwise."
   ]
  },
  {
   "cell_type": "code",
   "execution_count": 11,
   "metadata": {},
   "outputs": [],
   "source": [
    "class Solution:\n",
    "    def isPalindrome(self, x):\n",
    "        string_int = str(x)\n",
    "        reversed = ''\n",
    "        for i in range(len(string_int)-1, -1, -1):\n",
    "            reversed += string_int[i]\n",
    "        if reversed == string_int:\n",
    "            return True\n",
    "        else:\n",
    "            return False"
   ]
  },
  {
   "attachments": {},
   "cell_type": "markdown",
   "metadata": {},
   "source": [
    "# Roman To Integer\n",
    "\n",
    "Roman numerals are represented by seven different symbols: I, V, X, L, C, D and M.\n",
    "\n",
    "Symbol       Value\n",
    "I             1\n",
    "V             5\n",
    "X             10\n",
    "L             50\n",
    "C             100\n",
    "D             500\n",
    "M             1000\n",
    "\n",
    "For example, 2 is written as II in Roman numeral, just two ones added together. 12 is written as XII, which is simply X + II. The number 27 is written as XXVII, which is XX + V + II.\n",
    "\n",
    "Roman numerals are usually written largest to smallest from left to right. However, the numeral for four is not IIII. Instead, the number four is written as IV. Because the one is before the five we subtract it making four. The same principle applies to the number nine, which is written as IX. There are six instances where subtraction is used:\n",
    "\n",
    "    I can be placed before V (5) and X (10) to make 4 and 9. \n",
    "    X can be placed before L (50) and C (100) to make 40 and 90. \n",
    "    C can be placed before D (500) and M (1000) to make 400 and 900.\n",
    "\n",
    "Given a roman numeral, convert it to an integer."
   ]
  },
  {
   "cell_type": "code",
   "execution_count": 8,
   "metadata": {},
   "outputs": [
    {
     "data": {
      "text/plain": [
       "58"
      ]
     },
     "execution_count": 8,
     "metadata": {},
     "output_type": "execute_result"
    }
   ],
   "source": [
    "def romanToInt(roman_numeral):\n",
    "    roman_values = {'I': 1, 'V': 5, 'X': 10, 'L': 50, 'C': 100, 'D': 500, 'M': 1000}\n",
    "    total = 0\n",
    "    previous_value = 0\n",
    "\n",
    "    for i in roman_numeral[::-1]:\n",
    "        current_value = roman_values[i]\n",
    "        if current_value >= previous_value:\n",
    "            total += current_value\n",
    "        else:\n",
    "            total -= current_value\n",
    "        previous_value = current_value\n",
    "    return total"
   ]
  },
  {
   "attachments": {},
   "cell_type": "markdown",
   "metadata": {},
   "source": [
    "# 14 Longest Common Prefix\n",
    "\n",
    "Write a function to find the longest common prefix string amongst an array of strings.\n",
    "\n",
    "If there is no common prefix, return an empty string \"\"."
   ]
  },
  {
   "cell_type": "code",
   "execution_count": null,
   "metadata": {},
   "outputs": [],
   "source": [
    "def longestCommonPrefix(self, list):\n",
    "    # Check if the input list is empty\n",
    "    if len(list) == 0:\n",
    "        return \"\"  # Return an empty string if the list is empty\n",
    "\n",
    "    # Find the shortest string in the list\n",
    "    shortest = min(list, key=len)\n",
    "\n",
    "    # Iterate through the characters of the shortest string\n",
    "    for i, char in enumerate(shortest):\n",
    "        # Iterate through each string in the input list\n",
    "        for other in list:\n",
    "            # Compare the character at the current index (i) with the character in the shortest string\n",
    "            if other[i] != char:\n",
    "                return shortest[:i]  # Return the substring of the shortest string up to index i (exclusive)\n",
    "\n",
    "    # If all characters match in all strings, the entire shortest string is the common prefix\n",
    "    return shortest\n"
   ]
  },
  {
   "attachments": {},
   "cell_type": "markdown",
   "metadata": {},
   "source": [
    "# 20 Valid Parentheses\n",
    "\n",
    "Given a string s containing just the characters '(', ')', '{', '}', '[' and ']', determine if the input string is valid.\n",
    "\n",
    "An input string is valid if:\n",
    "\n",
    "    Open brackets must be closed by the same type of brackets.\n",
    "    Open brackets must be closed in the correct order.\n",
    "    Every close bracket has a corresponding open bracket of the same type."
   ]
  },
  {
   "cell_type": "code",
   "execution_count": 1,
   "metadata": {},
   "outputs": [],
   "source": [
    "class Solution:\n",
    "    def isValid(self, string):\n",
    "        stack = []\n",
    "        for char in string:\n",
    "            if char == '(' or char == '[' or char == '{':\n",
    "                stack.append(char)\n",
    "            elif char == ')' and len(stack) != 0 and stack[-1] == '(':\n",
    "                stack.pop()\n",
    "            elif char == ']' and len(stack) != 0 and stack[-1] == '[':\n",
    "                stack.pop()\n",
    "            elif char == '}' and len(stack) != 0 and stack[-1] == '{':\n",
    "                stack.pop()\n",
    "            else:\n",
    "                return False\n",
    "        return len(stack) == 0"
   ]
  },
  {
   "attachments": {},
   "cell_type": "markdown",
   "metadata": {},
   "source": [
    "# 21. Merge Two Sorted Lists\n",
    "\n",
    "You are given the heads of two sorted linked lists list1 and list2.\n",
    "\n",
    "Merge the two lists in a one sorted list. The list should be made by splicing together the nodes of the first two lists.\n",
    "\n",
    "Return the head of the merged linked list."
   ]
  },
  {
   "cell_type": "code",
   "execution_count": 1,
   "metadata": {},
   "outputs": [],
   "source": [
    "class Solution:\n",
    "    def mergeTwoLists(self, l1, l2):\n",
    "        # First, we check if one of the lists is empty. \n",
    "        # If the first list is empty, we return the second list as the merged result. \n",
    "        # If the second list is empty, we return the first list.\n",
    "        if l1 == None:\n",
    "            return l2\n",
    "        elif l2 == None:\n",
    "            return l1\n",
    "        \n",
    "        # If both lists have at least one number, we compare the first numbers in both lists. \n",
    "        # We want to add the smaller number to our merged list first.\n",
    "\n",
    "        # If the number in the first list is smaller or equal to the number in the second list, we add that number to the merged list. \n",
    "        # Then, we call the same function again, but this time with the next number in the first list and the current number in the second list. \n",
    "        # We keep doing this until we reach the end of one of the lists.\n",
    "        if l1.val <= l2.val:\n",
    "            l1.next = self.mergeTwoLists(l1.next, l2)\n",
    "            return l1\n",
    "        # If the number in the second list is smaller, we add that number to the merged list. \n",
    "        # Then, we call the same function again, but this time with the current number in the first list and the next number in the second list. \n",
    "        # We keep doing this until we reach the end of one of the lists.\n",
    "        else:\n",
    "            l2.next = self.mergeTwoLists(l1, l2.next)\n",
    "            return l2\n",
    "        \n",
    "        # Finally, when we reach the end of one of the lists, we add all the remaining numbers from the other list to our merged list. \n",
    "        # This is because the remaining numbers are already sorted within their respective list.\n",
    "\n",
    "    # Once we have merged all the numbers, we return the merged list as the final result.\n"
   ]
  },
  {
   "attachments": {},
   "cell_type": "markdown",
   "metadata": {},
   "source": [
    "# 26. Remove Duplicates From Sorted Array\n",
    "\n",
    "Given an integer array nums sorted in non-decreasing order, remove the duplicates in-place such that each unique element appears only once. The relative order of the elements should be kept the same. Then return the number of unique elements in nums.\n",
    "\n",
    "Consider the number of unique elements of nums to be k, to get accepted, you need to do the following things:\n",
    "\n",
    "* Change the array nums such that the first k elements of nums contain the unique elements in the order they were present in nums initially. The remaining elements of nums are not important as well as the size of nums.\n",
    "* Return k.\n",
    "\n",
    "Custom Judge:\n",
    "\n",
    "The judge will test your solution with the following code:\n",
    "\n",
    "```\n",
    "int[] nums = [...]; // Input array\n",
    "int[] expectedNums = [...]; // The expected answer with correct length\n",
    "\n",
    "int k = removeDuplicates(nums); // Calls your implementation\n",
    "\n",
    "assert k == expectedNums.length;\n",
    "for (int i = 0; i < k; i++) {\n",
    "    assert nums[i] == expectedNums[i];\n",
    "}\n",
    "```\n",
    "If all assertions pass, then your solution will be accepted.\n",
    "\n",
    " \n",
    "\n",
    "Example 1:\n",
    "```\n",
    "Input: nums = [1,1,2]\n",
    "Output: 2, nums = [1,2,_]\n",
    "Explanation: Your function should return k = 2, with the first two elements of nums being 1 and 2 respectively.\n",
    "It does not matter what you leave beyond the returned k (hence they are underscores).\n",
    "```\n",
    "Example 2:\n",
    "```\n",
    "Input: nums = [0,0,1,1,1,2,2,3,3,4]\n",
    "Output: 5, nums = [0,1,2,3,4,_,_,_,_,_]\n",
    "Explanation: Your function should return k = 5, with the first five elements of nums being 0, 1, 2, 3, and 4 respectively.\n",
    "It does not matter what you leave beyond the returned k (hence they are underscores).\n",
    "```\n",
    " \n",
    "\n",
    "Constraints:\n",
    "\n",
    "* 1 <= nums.length <= 3 * 104\n",
    "* -100 <= nums[i] <= 100\n",
    "* nums is sorted in non-decreasing order.\n",
    "\n"
   ]
  },
  {
   "cell_type": "code",
   "execution_count": null,
   "metadata": {},
   "outputs": [],
   "source": [
    "# 26. Remove Duplicates from Sorted Array\n",
    "class Solution:\n",
    "    def removeDuplicates(self, nums):\n",
    "        # If the input list is empty, we return 0\n",
    "        if len(nums) == 0:\n",
    "            return 0\n",
    "        \n",
    "        # We keep track of the index of the last unique number we found\n",
    "        last_unique_index = 0\n",
    "        \n",
    "        # We iterate through the list, starting from the second number\n",
    "        for i in range(1, len(nums)):\n",
    "            # If the current number is different from the last unique number we found, we increment the index of the last unique number and update the value at that index with the current number\n",
    "            if nums[i] != nums[last_unique_index]:\n",
    "                last_unique_index += 1\n",
    "                nums[last_unique_index] = nums[i]\n",
    "        \n",
    "        # We return the number of unique numbers, which is the index of the last unique number + 1\n",
    "        return last_unique_index + 1"
   ]
  },
  {
   "attachments": {},
   "cell_type": "markdown",
   "metadata": {},
   "source": [
    "# 27. Remove Element\n",
    "\n",
    "Given an integer array nums and an integer val, remove all occurrences of val in nums in-place. The order of the elements may be changed. Then return the number of elements in nums which are not equal to val.\n",
    "\n",
    "Consider the number of elements in nums which are not equal to val be k, to get accepted, you need to do the following things:\n",
    "\n",
    "    Change the array nums such that the first k elements of nums contain the elements which are not equal to val. The remaining elements of nums are not important as well as the size of nums.\n",
    "    Return k.\n",
    "\n",
    "Custom Judge:\n",
    "\n",
    "The judge will test your solution with the following code:\n",
    "```\n",
    "int[] nums = [...]; // Input array\n",
    "int val = ...; // Value to remove\n",
    "int[] expectedNums = [...]; // The expected answer with correct length.\n",
    "                            // It is sorted with no values equaling val.\n",
    "\n",
    "int k = removeElement(nums, val); // Calls your implementation\n",
    "\n",
    "assert k == expectedNums.length;\n",
    "sort(nums, 0, k); // Sort the first k elements of nums\n",
    "for (int i = 0; i < actualLength; i++) {\n",
    "    assert nums[i] == expectedNums[i];\n",
    "}\n",
    "```\n",
    "If all assertions pass, then your solution will be accepted.\n",
    "\n",
    " \n",
    "\n",
    "Example 1:\n",
    "```\n",
    "Input: nums = [3,2,2,3], val = 3\n",
    "Output: 2, nums = [2,2,_,_]\n",
    "Explanation: Your function should return k = 2, with the first two elements of nums being 2.\n",
    "It does not matter what you leave beyond the returned k (hence they are underscores).\n",
    "```\n",
    "Example 2:\n",
    "```\n",
    "Input: nums = [0,1,2,2,3,0,4,2], val = 2\n",
    "Output: 5, nums = [0,1,4,0,3,_,_,_]\n",
    "Explanation: Your function should return k = 5, with the first five elements of nums containing 0, 0, 1, 3, and 4.\n",
    "Note that the five elements can be returned in any order.\n",
    "It does not matter what you leave beyond the returned k (hence they are underscores).\n",
    "```\n",
    " \n",
    "\n",
    "Constraints:\n",
    "\n",
    "* 0 <= nums.length <= 100\n",
    "* 0 <= nums[i] <= 50\n",
    "* 0 <= val <= 100\n",
    "\n"
   ]
  },
  {
   "cell_type": "code",
   "execution_count": null,
   "metadata": {},
   "outputs": [],
   "source": [
    "# 27. Remove Element\n",
    "class Solution:\n",
    "    def removeElement(self, nums, val):\n",
    "        # We keep track of the index of the last non-val number we found\n",
    "        last_non_val_index = 0\n",
    "        \n",
    "        # We iterate through the list\n",
    "        for i in range(len(nums)):\n",
    "            # If the current number is not equal to the value, we increment the index of the last non-val number and update the value at that index with the current number\n",
    "            if nums[i] != val:\n",
    "                nums[last_non_val_index] = nums[i]\n",
    "                last_non_val_index += 1\n",
    "        \n",
    "        # We return the number of non-val numbers, which is the index of the last non-val number\n",
    "        return last_non_val_index"
   ]
  },
  {
   "attachments": {},
   "cell_type": "markdown",
   "metadata": {},
   "source": [
    "# 28. Find the Index of the First Occurrence in a String\n",
    "\n",
    "Given two strings needle and haystack, return the index of the first occurrence of needle in haystack, or -1 if needle is not part of haystack.\n",
    "\n",
    " \n",
    "\n",
    "Example 1:\n",
    "```\n",
    "Input: haystack = \"sadbutsad\", needle = \"sad\"\n",
    "Output: 0\n",
    "Explanation: \"sad\" occurs at index 0 and 6.\n",
    "The first occurrence is at index 0, so we return 0.\n",
    "```\n",
    "Example 2:\n",
    "```\n",
    "Input: haystack = \"leetcode\", needle = \"leeto\"\n",
    "Output: -1\n",
    "Explanation: \"leeto\" did not occur in \"leetcode\", so we return -1.\n",
    "```\n",
    " \n",
    "\n",
    "Constraints:\n",
    "\n",
    "* 1 <= haystack.length, needle.length <= 104\n",
    "* haystack and needle consist of only lowercase English characters."
   ]
  },
  {
   "cell_type": "code",
   "execution_count": 1,
   "metadata": {},
   "outputs": [],
   "source": [
    "# 28. Find the index of the first occurrence of a substring in a string\n",
    "class Solution(object):\n",
    "    def strStr(self, haystack, needle):\n",
    "        # If the needle is empty, we return 0\n",
    "        if needle == \"\":\n",
    "            return 0\n",
    "        \n",
    "        # We iterate through the haystack\n",
    "        for i in range(len(haystack)):\n",
    "            # If the current character in the haystack is equal to the first character of the needle, we check if the substring of the haystack starting from the current index is equal to the needle\n",
    "            if haystack[i] == needle[0]:\n",
    "                if haystack[i:i+len(needle)] == needle:\n",
    "                    # If the substring is equal to the needle, we return the current index\n",
    "                    return i\n",
    "        \n",
    "        # If we reach the end of the haystack and we haven't found the needle, we return -1\n",
    "        return -1"
   ]
  },
  {
   "attachments": {},
   "cell_type": "markdown",
   "metadata": {},
   "source": [
    "# 35. Search Insert Position\n",
    "\n",
    "Given a sorted array of distinct integers and a target value, return the index if the target is found. If not, return the index where it would be if it were inserted in order.\n",
    "\n",
    "You must write an algorithm with `O(log n)` runtime complexity.\n",
    "\n",
    " \n",
    "\n",
    "Example 1:\n",
    "```\n",
    "Input: nums = [1,3,5,6], target = 5\n",
    "Output: 2\n",
    "```\n",
    "Example 2:\n",
    "```\n",
    "Input: nums = [1,3,5,6], target = 2\n",
    "Output: 1\n",
    "```\n",
    "Example 3:\n",
    "```\n",
    "Input: nums = [1,3,5,6], target = 7\n",
    "Output: 4\n",
    "```"
   ]
  },
  {
   "cell_type": "code",
   "execution_count": null,
   "metadata": {},
   "outputs": [],
   "source": [
    "# 35. Search Insert Position\n",
    "class Solution:\n",
    "    def searchInsert(self, nums, target):\n",
    "        # We iterate through the list\n",
    "        for i in range(len(nums)):\n",
    "            # If the current number is greater than or equal to the target, we return the current index\n",
    "            if nums[i] >= target:\n",
    "                return i\n",
    "        \n",
    "        # If we reach the end of the list and we haven't found the target, we return the length of the list\n",
    "        return len(nums)"
   ]
  }
 ],
 "metadata": {
  "kernelspec": {
   "display_name": "base",
   "language": "python",
   "name": "python3"
  },
  "language_info": {
   "codemirror_mode": {
    "name": "ipython",
    "version": 3
   },
   "file_extension": ".py",
   "mimetype": "text/x-python",
   "name": "python",
   "nbconvert_exporter": "python",
   "pygments_lexer": "ipython3",
   "version": "3.9.16"
  }
 },
 "nbformat": 4,
 "nbformat_minor": 4
}
